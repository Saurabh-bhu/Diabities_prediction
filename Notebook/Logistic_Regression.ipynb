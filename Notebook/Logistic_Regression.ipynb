{
 "cells": [
  {
   "cell_type": "markdown",
   "metadata": {},
   "source": [
    "Logistics_Regressiion"
   ]
  },
  {
   "cell_type": "code",
   "execution_count": 1,
   "metadata": {},
   "outputs": [],
   "source": [
    "import pandas as pd\n",
    "import numpy as np\n",
    "import matplotlib.pyplot as plt\n",
    "import seaborn as sns\n",
    "from sklearn.preprocessing import StandardScaler\n",
    "from sklearn.tree import DecisionTreeClassifier\n",
    "from sklearn.model_selection import train_test_split\n",
    "from sklearn.svm import  SVC\n",
    "from sklearn.naive_bayes import  BernoulliNB\n",
    "from sklearn.metrics import accuracy_score, confusion_matrix\n",
    "\n",
    "\n"
   ]
  },
  {
   "cell_type": "code",
   "execution_count": 3,
   "metadata": {},
   "outputs": [
    {
     "data": {
      "text/html": [
       "<div>\n",
       "<style scoped>\n",
       "    .dataframe tbody tr th:only-of-type {\n",
       "        vertical-align: middle;\n",
       "    }\n",
       "\n",
       "    .dataframe tbody tr th {\n",
       "        vertical-align: top;\n",
       "    }\n",
       "\n",
       "    .dataframe thead th {\n",
       "        text-align: right;\n",
       "    }\n",
       "</style>\n",
       "<table border=\"1\" class=\"dataframe\">\n",
       "  <thead>\n",
       "    <tr style=\"text-align: right;\">\n",
       "      <th></th>\n",
       "      <th>Pregnancies</th>\n",
       "      <th>Glucose</th>\n",
       "      <th>BloodPressure</th>\n",
       "      <th>SkinThickness</th>\n",
       "      <th>Insulin</th>\n",
       "      <th>BMI</th>\n",
       "      <th>DiabetesPedigreeFunction</th>\n",
       "      <th>Age</th>\n",
       "      <th>Outcome</th>\n",
       "    </tr>\n",
       "  </thead>\n",
       "  <tbody>\n",
       "    <tr>\n",
       "      <th>0</th>\n",
       "      <td>6</td>\n",
       "      <td>148</td>\n",
       "      <td>72</td>\n",
       "      <td>35</td>\n",
       "      <td>0</td>\n",
       "      <td>33.6</td>\n",
       "      <td>0.627</td>\n",
       "      <td>50</td>\n",
       "      <td>1</td>\n",
       "    </tr>\n",
       "    <tr>\n",
       "      <th>1</th>\n",
       "      <td>1</td>\n",
       "      <td>85</td>\n",
       "      <td>66</td>\n",
       "      <td>29</td>\n",
       "      <td>0</td>\n",
       "      <td>26.6</td>\n",
       "      <td>0.351</td>\n",
       "      <td>31</td>\n",
       "      <td>0</td>\n",
       "    </tr>\n",
       "    <tr>\n",
       "      <th>2</th>\n",
       "      <td>8</td>\n",
       "      <td>183</td>\n",
       "      <td>64</td>\n",
       "      <td>0</td>\n",
       "      <td>0</td>\n",
       "      <td>23.3</td>\n",
       "      <td>0.672</td>\n",
       "      <td>32</td>\n",
       "      <td>1</td>\n",
       "    </tr>\n",
       "    <tr>\n",
       "      <th>3</th>\n",
       "      <td>1</td>\n",
       "      <td>89</td>\n",
       "      <td>66</td>\n",
       "      <td>23</td>\n",
       "      <td>94</td>\n",
       "      <td>28.1</td>\n",
       "      <td>0.167</td>\n",
       "      <td>21</td>\n",
       "      <td>0</td>\n",
       "    </tr>\n",
       "    <tr>\n",
       "      <th>4</th>\n",
       "      <td>0</td>\n",
       "      <td>137</td>\n",
       "      <td>40</td>\n",
       "      <td>35</td>\n",
       "      <td>168</td>\n",
       "      <td>43.1</td>\n",
       "      <td>2.288</td>\n",
       "      <td>33</td>\n",
       "      <td>1</td>\n",
       "    </tr>\n",
       "  </tbody>\n",
       "</table>\n",
       "</div>"
      ],
      "text/plain": [
       "   Pregnancies  Glucose  BloodPressure  SkinThickness  Insulin   BMI  \\\n",
       "0            6      148             72             35        0  33.6   \n",
       "1            1       85             66             29        0  26.6   \n",
       "2            8      183             64              0        0  23.3   \n",
       "3            1       89             66             23       94  28.1   \n",
       "4            0      137             40             35      168  43.1   \n",
       "\n",
       "   DiabetesPedigreeFunction  Age  Outcome  \n",
       "0                     0.627   50        1  \n",
       "1                     0.351   31        0  \n",
       "2                     0.672   32        1  \n",
       "3                     0.167   21        0  \n",
       "4                     2.288   33        1  "
      ]
     },
     "execution_count": 3,
     "metadata": {},
     "output_type": "execute_result"
    }
   ],
   "source": [
    "data= pd.read_csv(\"/config/workspace/Datatset/diabetes.csv\")\n",
    "data.head()"
   ]
  },
  {
   "cell_type": "code",
   "execution_count": 5,
   "metadata": {},
   "outputs": [
    {
     "data": {
      "text/html": [
       "<div>\n",
       "<style scoped>\n",
       "    .dataframe tbody tr th:only-of-type {\n",
       "        vertical-align: middle;\n",
       "    }\n",
       "\n",
       "    .dataframe tbody tr th {\n",
       "        vertical-align: top;\n",
       "    }\n",
       "\n",
       "    .dataframe thead th {\n",
       "        text-align: right;\n",
       "    }\n",
       "</style>\n",
       "<table border=\"1\" class=\"dataframe\">\n",
       "  <thead>\n",
       "    <tr style=\"text-align: right;\">\n",
       "      <th></th>\n",
       "      <th>Pregnancies</th>\n",
       "      <th>Glucose</th>\n",
       "      <th>BloodPressure</th>\n",
       "      <th>SkinThickness</th>\n",
       "      <th>Insulin</th>\n",
       "      <th>BMI</th>\n",
       "      <th>DiabetesPedigreeFunction</th>\n",
       "      <th>Age</th>\n",
       "      <th>Outcome</th>\n",
       "    </tr>\n",
       "  </thead>\n",
       "  <tbody>\n",
       "    <tr>\n",
       "      <th>count</th>\n",
       "      <td>768.000000</td>\n",
       "      <td>768.000000</td>\n",
       "      <td>768.000000</td>\n",
       "      <td>768.000000</td>\n",
       "      <td>768.000000</td>\n",
       "      <td>768.000000</td>\n",
       "      <td>768.000000</td>\n",
       "      <td>768.000000</td>\n",
       "      <td>768.000000</td>\n",
       "    </tr>\n",
       "    <tr>\n",
       "      <th>mean</th>\n",
       "      <td>3.845052</td>\n",
       "      <td>120.894531</td>\n",
       "      <td>69.105469</td>\n",
       "      <td>20.536458</td>\n",
       "      <td>79.799479</td>\n",
       "      <td>31.992578</td>\n",
       "      <td>0.471876</td>\n",
       "      <td>33.240885</td>\n",
       "      <td>0.348958</td>\n",
       "    </tr>\n",
       "    <tr>\n",
       "      <th>std</th>\n",
       "      <td>3.369578</td>\n",
       "      <td>31.972618</td>\n",
       "      <td>19.355807</td>\n",
       "      <td>15.952218</td>\n",
       "      <td>115.244002</td>\n",
       "      <td>7.884160</td>\n",
       "      <td>0.331329</td>\n",
       "      <td>11.760232</td>\n",
       "      <td>0.476951</td>\n",
       "    </tr>\n",
       "    <tr>\n",
       "      <th>min</th>\n",
       "      <td>0.000000</td>\n",
       "      <td>0.000000</td>\n",
       "      <td>0.000000</td>\n",
       "      <td>0.000000</td>\n",
       "      <td>0.000000</td>\n",
       "      <td>0.000000</td>\n",
       "      <td>0.078000</td>\n",
       "      <td>21.000000</td>\n",
       "      <td>0.000000</td>\n",
       "    </tr>\n",
       "    <tr>\n",
       "      <th>25%</th>\n",
       "      <td>1.000000</td>\n",
       "      <td>99.000000</td>\n",
       "      <td>62.000000</td>\n",
       "      <td>0.000000</td>\n",
       "      <td>0.000000</td>\n",
       "      <td>27.300000</td>\n",
       "      <td>0.243750</td>\n",
       "      <td>24.000000</td>\n",
       "      <td>0.000000</td>\n",
       "    </tr>\n",
       "    <tr>\n",
       "      <th>50%</th>\n",
       "      <td>3.000000</td>\n",
       "      <td>117.000000</td>\n",
       "      <td>72.000000</td>\n",
       "      <td>23.000000</td>\n",
       "      <td>30.500000</td>\n",
       "      <td>32.000000</td>\n",
       "      <td>0.372500</td>\n",
       "      <td>29.000000</td>\n",
       "      <td>0.000000</td>\n",
       "    </tr>\n",
       "    <tr>\n",
       "      <th>75%</th>\n",
       "      <td>6.000000</td>\n",
       "      <td>140.250000</td>\n",
       "      <td>80.000000</td>\n",
       "      <td>32.000000</td>\n",
       "      <td>127.250000</td>\n",
       "      <td>36.600000</td>\n",
       "      <td>0.626250</td>\n",
       "      <td>41.000000</td>\n",
       "      <td>1.000000</td>\n",
       "    </tr>\n",
       "    <tr>\n",
       "      <th>max</th>\n",
       "      <td>17.000000</td>\n",
       "      <td>199.000000</td>\n",
       "      <td>122.000000</td>\n",
       "      <td>99.000000</td>\n",
       "      <td>846.000000</td>\n",
       "      <td>67.100000</td>\n",
       "      <td>2.420000</td>\n",
       "      <td>81.000000</td>\n",
       "      <td>1.000000</td>\n",
       "    </tr>\n",
       "  </tbody>\n",
       "</table>\n",
       "</div>"
      ],
      "text/plain": [
       "       Pregnancies     Glucose  BloodPressure  SkinThickness     Insulin  \\\n",
       "count   768.000000  768.000000     768.000000     768.000000  768.000000   \n",
       "mean      3.845052  120.894531      69.105469      20.536458   79.799479   \n",
       "std       3.369578   31.972618      19.355807      15.952218  115.244002   \n",
       "min       0.000000    0.000000       0.000000       0.000000    0.000000   \n",
       "25%       1.000000   99.000000      62.000000       0.000000    0.000000   \n",
       "50%       3.000000  117.000000      72.000000      23.000000   30.500000   \n",
       "75%       6.000000  140.250000      80.000000      32.000000  127.250000   \n",
       "max      17.000000  199.000000     122.000000      99.000000  846.000000   \n",
       "\n",
       "              BMI  DiabetesPedigreeFunction         Age     Outcome  \n",
       "count  768.000000                768.000000  768.000000  768.000000  \n",
       "mean    31.992578                  0.471876   33.240885    0.348958  \n",
       "std      7.884160                  0.331329   11.760232    0.476951  \n",
       "min      0.000000                  0.078000   21.000000    0.000000  \n",
       "25%     27.300000                  0.243750   24.000000    0.000000  \n",
       "50%     32.000000                  0.372500   29.000000    0.000000  \n",
       "75%     36.600000                  0.626250   41.000000    1.000000  \n",
       "max     67.100000                  2.420000   81.000000    1.000000  "
      ]
     },
     "execution_count": 5,
     "metadata": {},
     "output_type": "execute_result"
    }
   ],
   "source": [
    "data.describe()"
   ]
  },
  {
   "cell_type": "code",
   "execution_count": 4,
   "metadata": {},
   "outputs": [],
   "source": [
    "data['BMI']=data['BMI'].replace(0,data['BMI'].mean())\n",
    "data['BloodPressure']=data['BloodPressure'].replace(0,data['BloodPressure'].mean())\n",
    "data['Glucose']=data['Glucose'].replace(0,data['Glucose'].mean())\n",
    "data['Insulin']=data['Insulin'].replace(0,data['Insulin'].mean())\n",
    "data['SkinThickness']=data['SkinThickness'].replace(0,data['SkinThickness'].mean())"
   ]
  },
  {
   "cell_type": "code",
   "execution_count": 5,
   "metadata": {},
   "outputs": [
    {
     "data": {
      "text/plain": [
       "Pregnancies                 0\n",
       "Glucose                     0\n",
       "BloodPressure               0\n",
       "SkinThickness               0\n",
       "Insulin                     0\n",
       "BMI                         0\n",
       "DiabetesPedigreeFunction    0\n",
       "Age                         0\n",
       "Outcome                     0\n",
       "dtype: int64"
      ]
     },
     "execution_count": 5,
     "metadata": {},
     "output_type": "execute_result"
    }
   ],
   "source": [
    "data.isnull().sum()"
   ]
  },
  {
   "cell_type": "code",
   "execution_count": 17,
   "metadata": {},
   "outputs": [
    {
     "data": {
      "text/plain": [
       "<Axes: >"
      ]
     },
     "execution_count": 17,
     "metadata": {},
     "output_type": "execute_result"
    },
    {
     "data": {
      "image/png": "[encoded data removed]",
      "text/plain": [
       "<Figure size 640x480 with 1 Axes>"
      ]
     },
     "metadata": {},
     "output_type": "display_data"
    }
   ],
   "source": [
    "sns.boxplot(data=data)"
   ]
  },
  {
   "cell_type": "code",
   "execution_count": 6,
   "metadata": {},
   "outputs": [],
   "source": [
    "X=data.drop(columns=['Outcome'])\n",
    "y=data['Outcome']\n",
    "X_train,X_test,y_train,y_test=train_test_split(X,y,test_size=0.25,random_state=42)"
   ]
  },
  {
   "cell_type": "code",
   "execution_count": 8,
   "metadata": {},
   "outputs": [],
   "source": [
    "import pickle\n",
    "def scaler_std(X_train,X_test):\n",
    "    scaler=StandardScaler()\n",
    "    X_train_scaled= scaler.fit_transform(X_train)\n",
    "    X_test_scaled=scaler.fit_transform(X_test)\n",
    "\n",
    "    file=open('/config/workspace/Model/scaler.pkl','wb')\n",
    "    pickle.dump(scaler,file)\n",
    "    file.close()\n",
    "\n",
    "    return X_train_scaled, X_test_scaled\n"
   ]
  },
  {
   "cell_type": "code",
   "execution_count": 9,
   "metadata": {},
   "outputs": [],
   "source": [
    "X_train_scaled,X_test_scaled=scaler_std(X_train,X_test)"
   ]
  },
  {
   "cell_type": "code",
   "execution_count": 10,
   "metadata": {},
   "outputs": [],
   "source": [
    "import warnings\n",
    "warnings.filterwarnings('ignore')\n"
   ]
  },
  {
   "cell_type": "code",
   "execution_count": 11,
   "metadata": {},
   "outputs": [],
   "source": [
    "parameter={\n",
    "    'criterion':['gini','entropy','log_loss'],\n",
    "    'splitter':['best','random'],\n",
    "    'max_depth':[1,2,3,4,5],\n",
    "    'max_features':['auto','sqrt','log2']\n",
    "\n",
    "}"
   ]
  },
  {
   "cell_type": "code",
   "execution_count": 12,
   "metadata": {},
   "outputs": [],
   "source": [
    "from sklearn.model_selection import  GridSearchCV\n",
    "classifier=DecisionTreeClassifier()"
   ]
  },
  {
   "cell_type": "code",
   "execution_count": 14,
   "metadata": {},
   "outputs": [
    {
     "name": "stdout",
     "output_type": "stream",
     "text": [
      "Fitting 5 folds for each of 90 candidates, totalling 450 fits\n",
      "[CV 1/5] END criterion=gini, max_depth=1, max_features=auto, splitter=best;, score=nan total time=   0.0s\n",
      "[CV 2/5] END criterion=gini, max_depth=1, max_features=auto, splitter=best;, score=nan total time=   0.0s\n",
      "[CV 3/5] END criterion=gini, max_depth=1, max_features=auto, splitter=best;, score=nan total time=   0.0s\n",
      "[CV 4/5] END criterion=gini, max_depth=1, max_features=auto, splitter=best;, score=nan total time=   0.0s\n",
      "[CV 5/5] END criterion=gini, max_depth=1, max_features=auto, splitter=best;, score=nan total time=   0.0s\n",
      "[CV 1/5] END criterion=gini, max_depth=1, max_features=auto, splitter=random;, score=nan total time=   0.0s\n",
      "[CV 2/5] END criterion=gini, max_depth=1, max_features=auto, splitter=random;, score=nan total time=   0.0s\n",
      "[CV 3/5] END criterion=gini, max_depth=1, max_features=auto, splitter=random;, score=nan total time=   0.0s\n",
      "[CV 4/5] END criterion=gini, max_depth=1, max_features=auto, splitter=random;, score=nan total time=   0.0s\n",
      "[CV 5/5] END criterion=gini, max_depth=1, max_features=auto, splitter=random;, score=nan total time=   0.0s\n",
      "[CV 1/5] END criterion=gini, max_depth=1, max_features=sqrt, splitter=best;, score=0.750 total time=   0.0s\n",
      "[CV 2/5] END criterion=gini, max_depth=1, max_features=sqrt, splitter=best;, score=0.687 total time=   0.0s\n",
      "[CV 3/5] END criterion=gini, max_depth=1, max_features=sqrt, splitter=best;, score=0.652 total time=   0.0s\n",
      "[CV 4/5] END criterion=gini, max_depth=1, max_features=sqrt, splitter=best;, score=0.643 total time=   0.0s\n",
      "[CV 5/5] END criterion=gini, max_depth=1, max_features=sqrt, splitter=best;, score=0.670 total time=   0.0s\n",
      "[CV 1/5] END criterion=gini, max_depth=1, max_features=sqrt, splitter=random;, score=0.655 total time=   0.0s\n",
      "[CV 2/5] END criterion=gini, max_depth=1, max_features=sqrt, splitter=random;, score=0.713 total time=   0.0s\n",
      "[CV 3/5] END criterion=gini, max_depth=1, max_features=sqrt, splitter=random;, score=0.696 total time=   0.0s\n",
      "[CV 4/5] END criterion=gini, max_depth=1, max_features=sqrt, splitter=random;, score=0.652 total time=   0.0s\n",
      "[CV 5/5] END criterion=gini, max_depth=1, max_features=sqrt, splitter=random;, score=0.661 total time=   0.0s\n",
      "[CV 1/5] END criterion=gini, max_depth=1, max_features=log2, splitter=best;, score=0.655 total time=   0.0s\n",
      "[CV 2/5] END criterion=gini, max_depth=1, max_features=log2, splitter=best;, score=0.652 total time=   0.0s\n",
      "[CV 3/5] END criterion=gini, max_depth=1, max_features=log2, splitter=best;, score=0.652 total time=   0.0s\n",
      "[CV 4/5] END criterion=gini, max_depth=1, max_features=log2, splitter=best;, score=0.713 total time=   0.0s\n",
      "[CV 5/5] END criterion=gini, max_depth=1, max_features=log2, splitter=best;, score=0.661 total time=   0.0s\n",
      "[CV 1/5] END criterion=gini, max_depth=1, max_features=log2, splitter=random;, score=0.655 total time=   0.0s\n",
      "[CV 2/5] END criterion=gini, max_depth=1, max_features=log2, splitter=random;, score=0.652 total time=   0.0s\n",
      "[CV 3/5] END criterion=gini, max_depth=1, max_features=log2, splitter=random;, score=0.652 total time=   0.0s\n",
      "[CV 4/5] END criterion=gini, max_depth=1, max_features=log2, splitter=random;, score=0.652 total time=   0.0s\n",
      "[CV 5/5] END criterion=gini, max_depth=1, max_features=log2, splitter=random;, score=0.661 total time=   0.0s\n",
      "[CV 1/5] END criterion=gini, max_depth=2, max_features=auto, splitter=best;, score=nan total time=   0.0s\n",
      "[CV 2/5] END criterion=gini, max_depth=2, max_features=auto, splitter=best;, score=nan total time=   0.0s\n",
      "[CV 3/5] END criterion=gini, max_depth=2, max_features=auto, splitter=best;, score=nan total time=   0.0s\n",
      "[CV 4/5] END criterion=gini, max_depth=2, max_features=auto, splitter=best;, score=nan total time=   0.0s\n",
      "[CV 5/5] END criterion=gini, max_depth=2, max_features=auto, splitter=best;, score=nan total time=   0.0s\n",
      "[CV 1/5] END criterion=gini, max_depth=2, max_features=auto, splitter=random;, score=nan total time=   0.0s\n",
      "[CV 2/5] END criterion=gini, max_depth=2, max_features=auto, splitter=random;, score=nan total time=   0.0s\n",
      "[CV 3/5] END criterion=gini, max_depth=2, max_features=auto, splitter=random;, score=nan total time=   0.0s\n",
      "[CV 4/5] END criterion=gini, max_depth=2, max_features=auto, splitter=random;, score=nan total time=   0.0s\n",
      "[CV 5/5] END criterion=gini, max_depth=2, max_features=auto, splitter=random;, score=nan total time=   0.0s\n",
      "[CV 1/5] END criterion=gini, max_depth=2, max_features=sqrt, splitter=best;, score=0.750 total time=   0.0s\n",
      "[CV 2/5] END criterion=gini, max_depth=2, max_features=sqrt, splitter=best;, score=0.696 total time=   0.0s\n",
      "[CV 3/5] END criterion=gini, max_depth=2, max_features=sqrt, splitter=best;, score=0.713 total time=   0.0s\n",
      "[CV 4/5] END criterion=gini, max_depth=2, max_features=sqrt, splitter=best;, score=0.678 total time=   0.0s\n",
      "[CV 5/5] END criterion=gini, max_depth=2, max_features=sqrt, splitter=best;, score=0.730 total time=   0.0s\n",
      "[CV 1/5] END criterion=gini, max_depth=2, max_features=sqrt, splitter=random;, score=0.724 total time=   0.0s\n",
      "[CV 2/5] END criterion=gini, max_depth=2, max_features=sqrt, splitter=random;, score=0.652 total time=   0.0s\n",
      "[CV 3/5] END criterion=gini, max_depth=2, max_features=sqrt, splitter=random;, score=0.730 total time=   0.0s\n",
      "[CV 4/5] END criterion=gini, max_depth=2, max_features=sqrt, splitter=random;, score=0.661 total time=   0.0s\n",
      "[CV 5/5] END criterion=gini, max_depth=2, max_features=sqrt, splitter=random;, score=0.600 total time=   0.0s\n",
      "[CV 1/5] END criterion=gini, max_depth=2, max_features=log2, splitter=best;, score=0.690 total time=   0.0s\n",
      "[CV 2/5] END criterion=gini, max_depth=2, max_features=log2, splitter=best;, score=0.678 total time=   0.0s\n",
      "[CV 3/5] END criterion=gini, max_depth=2, max_features=log2, splitter=best;, score=0.748 total time=   0.0s\n",
      "[CV 4/5] END criterion=gini, max_depth=2, max_features=log2, splitter=best;, score=0.713 total time=   0.0s\n",
      "[CV 5/5] END criterion=gini, max_depth=2, max_features=log2, splitter=best;, score=0.661 total time=   0.0s\n",
      "[CV 1/5] END criterion=gini, max_depth=2, max_features=log2, splitter=random;, score=0.767 total time=   0.0s\n",
      "[CV 2/5] END criterion=gini, max_depth=2, max_features=log2, splitter=random;, score=0.670 total time=   0.0s\n",
      "[CV 3/5] END criterion=gini, max_depth=2, max_features=log2, splitter=random;, score=0.678 total time=   0.0s\n",
      "[CV 4/5] END criterion=gini, max_depth=2, max_features=log2, splitter=random;, score=0.643 total time=   0.0s\n",
      "[CV 5/5] END criterion=gini, max_depth=2, max_features=log2, splitter=random;, score=0.661 total time=   0.0s\n",
      "[CV 1/5] END criterion=gini, max_depth=3, max_features=auto, splitter=best;, score=nan total time=   0.0s\n",
      "[CV 2/5] END criterion=gini, max_depth=3, max_features=auto, splitter=best;, score=nan total time=   0.0s\n",
      "[CV 3/5] END criterion=gini, max_depth=3, max_features=auto, splitter=best;, score=nan total time=   0.0s\n",
      "[CV 4/5] END criterion=gini, max_depth=3, max_features=auto, splitter=best;, score=nan total time=   0.0s\n",
      "[CV 5/5] END criterion=gini, max_depth=3, max_features=auto, splitter=best;, score=nan total time=   0.0s\n",
      "[CV 1/5] END criterion=gini, max_depth=3, max_features=auto, splitter=random;, score=nan total time=   0.0s\n",
      "[CV 2/5] END criterion=gini, max_depth=3, max_features=auto, splitter=random;, score=nan total time=   0.0s\n",
      "[CV 3/5] END criterion=gini, max_depth=3, max_features=auto, splitter=random;, score=nan total time=   0.0s\n",
      "[CV 4/5] END criterion=gini, max_depth=3, max_features=auto, splitter=random;, score=nan total time=   0.0s\n",
      "[CV 5/5] END criterion=gini, max_depth=3, max_features=auto, splitter=random;, score=nan total time=   0.0s\n",
      "[CV 1/5] END criterion=gini, max_depth=3, max_features=sqrt, splitter=best;, score=0.750 total time=   0.0s\n",
      "[CV 2/5] END criterion=gini, max_depth=3, max_features=sqrt, splitter=best;, score=0.687 total time=   0.0s\n",
      "[CV 3/5] END criterion=gini, max_depth=3, max_features=sqrt, splitter=best;, score=0.774 total time=   0.0s\n",
      "[CV 4/5] END criterion=gini, max_depth=3, max_features=sqrt, splitter=best;, score=0.635 total time=   0.0s\n",
      "[CV 5/5] END criterion=gini, max_depth=3, max_features=sqrt, splitter=best;, score=0.670 total time=   0.0s\n",
      "[CV 1/5] END criterion=gini, max_depth=3, max_features=sqrt, splitter=random;, score=0.767 total time=   0.0s\n",
      "[CV 2/5] END criterion=gini, max_depth=3, max_features=sqrt, splitter=random;, score=0.652 total time=   0.0s\n",
      "[CV 3/5] END criterion=gini, max_depth=3, max_features=sqrt, splitter=random;, score=0.643 total time=   0.0s\n",
      "[CV 4/5] END criterion=gini, max_depth=3, max_features=sqrt, splitter=random;, score=0.617 total time=   0.0s\n",
      "[CV 5/5] END criterion=gini, max_depth=3, max_features=sqrt, splitter=random;, score=0.765 total time=   0.0s\n",
      "[CV 1/5] END criterion=gini, max_depth=3, max_features=log2, splitter=best;, score=0.733 total time=   0.0s\n",
      "[CV 2/5] END criterion=gini, max_depth=3, max_features=log2, splitter=best;, score=0.730 total time=   0.0s\n",
      "[CV 3/5] END criterion=gini, max_depth=3, max_features=log2, splitter=best;, score=0.765 total time=   0.0s\n",
      "[CV 4/5] END criterion=gini, max_depth=3, max_features=log2, splitter=best;, score=0.730 total time=   0.0s\n",
      "[CV 5/5] END criterion=gini, max_depth=3, max_features=log2, splitter=best;, score=0.757 total time=   0.0s\n",
      "[CV 1/5] END criterion=gini, max_depth=3, max_features=log2, splitter=random;, score=0.638 total time=   0.0s\n",
      "[CV 2/5] END criterion=gini, max_depth=3, max_features=log2, splitter=random;, score=0.635 total time=   0.0s\n",
      "[CV 3/5] END criterion=gini, max_depth=3, max_features=log2, splitter=random;, score=0.748 total time=   0.0s\n",
      "[CV 4/5] END criterion=gini, max_depth=3, max_features=log2, splitter=random;, score=0.696 total time=   0.0s\n",
      "[CV 5/5] END criterion=gini, max_depth=3, max_features=log2, splitter=random;, score=0.739 total time=   0.0s\n",
      "[CV 1/5] END criterion=gini, max_depth=4, max_features=auto, splitter=best;, score=nan total time=   0.0s\n",
      "[CV 2/5] END criterion=gini, max_depth=4, max_features=auto, splitter=best;, score=nan total time=   0.0s\n",
      "[CV 3/5] END criterion=gini, max_depth=4, max_features=auto, splitter=best;, score=nan total time=   0.0s\n",
      "[CV 4/5] END criterion=gini, max_depth=4, max_features=auto, splitter=best;, score=nan total time=   0.0s\n",
      "[CV 5/5] END criterion=gini, max_depth=4, max_features=auto, splitter=best;, score=nan total time=   0.0s\n",
      "[CV 1/5] END criterion=gini, max_depth=4, max_features=auto, splitter=random;, score=nan total time=   0.0s\n",
      "[CV 2/5] END criterion=gini, max_depth=4, max_features=auto, splitter=random;, score=nan total time=   0.0s\n",
      "[CV 3/5] END criterion=gini, max_depth=4, max_features=auto, splitter=random;, score=nan total time=   0.0s\n",
      "[CV 4/5] END criterion=gini, max_depth=4, max_features=auto, splitter=random;, score=nan total time=   0.0s\n",
      "[CV 5/5] END criterion=gini, max_depth=4, max_features=auto, splitter=random;, score=nan total time=   0.0s\n",
      "[CV 1/5] END criterion=gini, max_depth=4, max_features=sqrt, splitter=best;, score=0.716 total time=   0.0s\n",
      "[CV 2/5] END criterion=gini, max_depth=4, max_features=sqrt, splitter=best;, score=0.704 total time=   0.0s\n",
      "[CV 3/5] END criterion=gini, max_depth=4, max_features=sqrt, splitter=best;, score=0.678 total time=   0.0s\n",
      "[CV 4/5] END criterion=gini, max_depth=4, max_features=sqrt, splitter=best;, score=0.661 total time=   0.0s\n",
      "[CV 5/5] END criterion=gini, max_depth=4, max_features=sqrt, splitter=best;, score=0.730 total time=   0.0s\n",
      "[CV 1/5] END criterion=gini, max_depth=4, max_features=sqrt, splitter=random;, score=0.690 total time=   0.0s\n",
      "[CV 2/5] END criterion=gini, max_depth=4, max_features=sqrt, splitter=random;, score=0.687 total time=   0.0s\n",
      "[CV 3/5] END criterion=gini, max_depth=4, max_features=sqrt, splitter=random;, score=0.722 total time=   0.0s\n",
      "[CV 4/5] END criterion=gini, max_depth=4, max_features=sqrt, splitter=random;, score=0.704 total time=   0.0s\n",
      "[CV 5/5] END criterion=gini, max_depth=4, max_features=sqrt, splitter=random;, score=0.678 total time=   0.0s\n",
      "[CV 1/5] END criterion=gini, max_depth=4, max_features=log2, splitter=best;, score=0.690 total time=   0.0s\n",
      "[CV 2/5] END criterion=gini, max_depth=4, max_features=log2, splitter=best;, score=0.730 total time=   0.0s\n",
      "[CV 3/5] END criterion=gini, max_depth=4, max_features=log2, splitter=best;, score=0.730 total time=   0.0s\n",
      "[CV 4/5] END criterion=gini, max_depth=4, max_features=log2, splitter=best;, score=0.678 total time=   0.0s\n",
      "[CV 5/5] END criterion=gini, max_depth=4, max_features=log2, splitter=best;, score=0.783 total time=   0.0s\n",
      "[CV 1/5] END criterion=gini, max_depth=4, max_features=log2, splitter=random;, score=0.707 total time=   0.0s\n",
      "[CV 2/5] END criterion=gini, max_depth=4, max_features=log2, splitter=random;, score=0.722 total time=   0.0s\n",
      "[CV 3/5] END criterion=gini, max_depth=4, max_features=log2, splitter=random;, score=0.661 total time=   0.0s\n",
      "[CV 4/5] END criterion=gini, max_depth=4, max_features=log2, splitter=random;, score=0.600 total time=   0.0s\n",
      "[CV 5/5] END criterion=gini, max_depth=4, max_features=log2, splitter=random;, score=0.748 total time=   0.0s\n",
      "[CV 1/5] END criterion=gini, max_depth=5, max_features=auto, splitter=best;, score=nan total time=   0.0s\n",
      "[CV 2/5] END criterion=gini, max_depth=5, max_features=auto, splitter=best;, score=nan total time=   0.0s\n",
      "[CV 3/5] END criterion=gini, max_depth=5, max_features=auto, splitter=best;, score=nan total time=   0.0s\n",
      "[CV 4/5] END criterion=gini, max_depth=5, max_features=auto, splitter=best;, score=nan total time=   0.0s\n",
      "[CV 5/5] END criterion=gini, max_depth=5, max_features=auto, splitter=best;, score=nan total time=   0.0s\n",
      "[CV 1/5] END criterion=gini, max_depth=5, max_features=auto, splitter=random;, score=nan total time=   0.0s\n",
      "[CV 2/5] END criterion=gini, max_depth=5, max_features=auto, splitter=random;, score=nan total time=   0.0s\n",
      "[CV 3/5] END criterion=gini, max_depth=5, max_features=auto, splitter=random;, score=nan total time=   0.0s\n",
      "[CV 4/5] END criterion=gini, max_depth=5, max_features=auto, splitter=random;, score=nan total time=   0.0s\n",
      "[CV 5/5] END criterion=gini, max_depth=5, max_features=auto, splitter=random;, score=nan total time=   0.0s\n",
      "[CV 1/5] END criterion=gini, max_depth=5, max_features=sqrt, splitter=best;, score=0.759 total time=   0.0s\n",
      "[CV 2/5] END criterion=gini, max_depth=5, max_features=sqrt, splitter=best;, score=0.722 total time=   0.0s\n",
      "[CV 3/5] END criterion=gini, max_depth=5, max_features=sqrt, splitter=best;, score=0.765 total time=   0.0s\n",
      "[CV 4/5] END criterion=gini, max_depth=5, max_features=sqrt, splitter=best;, score=0.661 total time=   0.0s\n",
      "[CV 5/5] END criterion=gini, max_depth=5, max_features=sqrt, splitter=best;, score=0.748 total time=   0.0s\n",
      "[CV 1/5] END criterion=gini, max_depth=5, max_features=sqrt, splitter=random;, score=0.707 total time=   0.0s\n",
      "[CV 2/5] END criterion=gini, max_depth=5, max_features=sqrt, splitter=random;, score=0.678 total time=   0.0s\n",
      "[CV 3/5] END criterion=gini, max_depth=5, max_features=sqrt, splitter=random;, score=0.670 total time=   0.0s\n",
      "[CV 4/5] END criterion=gini, max_depth=5, max_features=sqrt, splitter=random;, score=0.670 total time=   0.0s\n",
      "[CV 5/5] END criterion=gini, max_depth=5, max_features=sqrt, splitter=random;, score=0.678 total time=   0.0s\n",
      "[CV 1/5] END criterion=gini, max_depth=5, max_features=log2, splitter=best;, score=0.724 total time=   0.0s\n",
      "[CV 2/5] END criterion=gini, max_depth=5, max_features=log2, splitter=best;, score=0.748 total time=   0.0s\n",
      "[CV 3/5] END criterion=gini, max_depth=5, max_features=log2, splitter=best;, score=0.722 total time=   0.0s\n",
      "[CV 4/5] END criterion=gini, max_depth=5, max_features=log2, splitter=best;, score=0.661 total time=   0.0s\n",
      "[CV 5/5] END criterion=gini, max_depth=5, max_features=log2, splitter=best;, score=0.713 total time=   0.0s\n",
      "[CV 1/5] END criterion=gini, max_depth=5, max_features=log2, splitter=random;, score=0.767 total time=   0.0s\n",
      "[CV 2/5] END criterion=gini, max_depth=5, max_features=log2, splitter=random;, score=0.687 total time=   0.0s\n",
      "[CV 3/5] END criterion=gini, max_depth=5, max_features=log2, splitter=random;, score=0.774 total time=   0.0s\n",
      "[CV 4/5] END criterion=gini, max_depth=5, max_features=log2, splitter=random;, score=0.626 total time=   0.0s\n",
      "[CV 5/5] END criterion=gini, max_depth=5, max_features=log2, splitter=random;, score=0.687 total time=   0.0s\n",
      "[CV 1/5] END criterion=entropy, max_depth=1, max_features=auto, splitter=best;, score=nan total time=   0.0s\n",
      "[CV 2/5] END criterion=entropy, max_depth=1, max_features=auto, splitter=best;, score=nan total time=   0.0s\n",
      "[CV 3/5] END criterion=entropy, max_depth=1, max_features=auto, splitter=best;, score=nan total time=   0.0s\n",
      "[CV 4/5] END criterion=entropy, max_depth=1, max_features=auto, splitter=best;, score=nan total time=   0.0s\n",
      "[CV 5/5] END criterion=entropy, max_depth=1, max_features=auto, splitter=best;, score=nan total time=   0.0s\n",
      "[CV 1/5] END criterion=entropy, max_depth=1, max_features=auto, splitter=random;, score=nan total time=   0.0s\n",
      "[CV 2/5] END criterion=entropy, max_depth=1, max_features=auto, splitter=random;, score=nan total time=   0.0s\n",
      "[CV 3/5] END criterion=entropy, max_depth=1, max_features=auto, splitter=random;, score=nan total time=   0.0s\n",
      "[CV 4/5] END criterion=entropy, max_depth=1, max_features=auto, splitter=random;, score=nan total time=   0.0s\n",
      "[CV 5/5] END criterion=entropy, max_depth=1, max_features=auto, splitter=random;, score=nan total time=   0.0s\n",
      "[CV 1/5] END criterion=entropy, max_depth=1, max_features=sqrt, splitter=best;, score=0.750 total time=   0.0s\n",
      "[CV 2/5] END criterion=entropy, max_depth=1, max_features=sqrt, splitter=best;, score=0.652 total time=   0.0s\n",
      "[CV 3/5] END criterion=entropy, max_depth=1, max_features=sqrt, splitter=best;, score=0.774 total time=   0.0s\n",
      "[CV 4/5] END criterion=entropy, max_depth=1, max_features=sqrt, splitter=best;, score=0.713 total time=   0.0s\n",
      "[CV 5/5] END criterion=entropy, max_depth=1, max_features=sqrt, splitter=best;, score=0.661 total time=   0.0s\n",
      "[CV 1/5] END criterion=entropy, max_depth=1, max_features=sqrt, splitter=random;, score=0.655 total time=   0.0s\n",
      "[CV 2/5] END criterion=entropy, max_depth=1, max_features=sqrt, splitter=random;, score=0.774 total time=   0.0s\n",
      "[CV 3/5] END criterion=entropy, max_depth=1, max_features=sqrt, splitter=random;, score=0.652 total time=   0.0s\n",
      "[CV 4/5] END criterion=entropy, max_depth=1, max_features=sqrt, splitter=random;, score=0.661 total time=   0.0s\n",
      "[CV 5/5] END criterion=entropy, max_depth=1, max_features=sqrt, splitter=random;, score=0.661 total time=   0.0s\n",
      "[CV 1/5] END criterion=entropy, max_depth=1, max_features=log2, splitter=best;, score=0.655 total time=   0.0s\n",
      "[CV 2/5] END criterion=entropy, max_depth=1, max_features=log2, splitter=best;, score=0.687 total time=   0.0s\n",
      "[CV 3/5] END criterion=entropy, max_depth=1, max_features=log2, splitter=best;, score=0.652 total time=   0.0s\n",
      "[CV 4/5] END criterion=entropy, max_depth=1, max_features=log2, splitter=best;, score=0.713 total time=   0.0s\n",
      "[CV 5/5] END criterion=entropy, max_depth=1, max_features=log2, splitter=best;, score=0.722 total time=   0.0s\n",
      "[CV 1/5] END criterion=entropy, max_depth=1, max_features=log2, splitter=random;, score=0.655 total time=   0.0s\n",
      "[CV 2/5] END criterion=entropy, max_depth=1, max_features=log2, splitter=random;, score=0.765 total time=   0.0s\n",
      "[CV 3/5] END criterion=entropy, max_depth=1, max_features=log2, splitter=random;, score=0.652 total time=   0.0s\n",
      "[CV 4/5] END criterion=entropy, max_depth=1, max_features=log2, splitter=random;, score=0.652 total time=   0.0s\n",
      "[CV 5/5] END criterion=entropy, max_depth=1, max_features=log2, splitter=random;, score=0.670 total time=   0.0s\n",
      "[CV 1/5] END criterion=entropy, max_depth=2, max_features=auto, splitter=best;, score=nan total time=   0.0s\n",
      "[CV 2/5] END criterion=entropy, max_depth=2, max_features=auto, splitter=best;, score=nan total time=   0.0s\n",
      "[CV 3/5] END criterion=entropy, max_depth=2, max_features=auto, splitter=best;, score=nan total time=   0.0s\n",
      "[CV 4/5] END criterion=entropy, max_depth=2, max_features=auto, splitter=best;, score=nan total time=   0.0s\n",
      "[CV 5/5] END criterion=entropy, max_depth=2, max_features=auto, splitter=best;, score=nan total time=   0.0s\n",
      "[CV 1/5] END criterion=entropy, max_depth=2, max_features=auto, splitter=random;, score=nan total time=   0.0s\n",
      "[CV 2/5] END criterion=entropy, max_depth=2, max_features=auto, splitter=random;, score=nan total time=   0.0s\n",
      "[CV 3/5] END criterion=entropy, max_depth=2, max_features=auto, splitter=random;, score=nan total time=   0.0s\n",
      "[CV 4/5] END criterion=entropy, max_depth=2, max_features=auto, splitter=random;, score=nan total time=   0.0s\n",
      "[CV 5/5] END criterion=entropy, max_depth=2, max_features=auto, splitter=random;, score=nan total time=   0.0s\n",
      "[CV 1/5] END criterion=entropy, max_depth=2, max_features=sqrt, splitter=best;, score=0.750 total time=   0.0s\n",
      "[CV 2/5] END criterion=entropy, max_depth=2, max_features=sqrt, splitter=best;, score=0.687 total time=   0.0s\n",
      "[CV 3/5] END criterion=entropy, max_depth=2, max_features=sqrt, splitter=best;, score=0.739 total time=   0.0s\n",
      "[CV 4/5] END criterion=entropy, max_depth=2, max_features=sqrt, splitter=best;, score=0.713 total time=   0.0s\n",
      "[CV 5/5] END criterion=entropy, max_depth=2, max_features=sqrt, splitter=best;, score=0.722 total time=   0.0s\n",
      "[CV 1/5] END criterion=entropy, max_depth=2, max_features=sqrt, splitter=random;, score=0.655 total time=   0.0s\n",
      "[CV 2/5] END criterion=entropy, max_depth=2, max_features=sqrt, splitter=random;, score=0.765 total time=   0.0s\n",
      "[CV 3/5] END criterion=entropy, max_depth=2, max_features=sqrt, splitter=random;, score=0.661 total time=   0.0s\n",
      "[CV 4/5] END criterion=entropy, max_depth=2, max_features=sqrt, splitter=random;, score=0.643 total time=   0.0s\n",
      "[CV 5/5] END criterion=entropy, max_depth=2, max_features=sqrt, splitter=random;, score=0.661 total time=   0.0s\n",
      "[CV 1/5] END criterion=entropy, max_depth=2, max_features=log2, splitter=best;, score=0.741 total time=   0.0s\n",
      "[CV 2/5] END criterion=entropy, max_depth=2, max_features=log2, splitter=best;, score=0.739 total time=   0.0s\n",
      "[CV 3/5] END criterion=entropy, max_depth=2, max_features=log2, splitter=best;, score=0.809 total time=   0.0s\n",
      "[CV 4/5] END criterion=entropy, max_depth=2, max_features=log2, splitter=best;, score=0.617 total time=   0.0s\n",
      "[CV 5/5] END criterion=entropy, max_depth=2, max_features=log2, splitter=best;, score=0.730 total time=   0.0s\n",
      "[CV 1/5] END criterion=entropy, max_depth=2, max_features=log2, splitter=random;, score=0.698 total time=   0.0s\n",
      "[CV 2/5] END criterion=entropy, max_depth=2, max_features=log2, splitter=random;, score=0.765 total time=   0.0s\n",
      "[CV 3/5] END criterion=entropy, max_depth=2, max_features=log2, splitter=random;, score=0.609 total time=   0.0s\n",
      "[CV 4/5] END criterion=entropy, max_depth=2, max_features=log2, splitter=random;, score=0.652 total time=   0.0s\n",
      "[CV 5/5] END criterion=entropy, max_depth=2, max_features=log2, splitter=random;, score=0.748 total time=   0.0s\n",
      "[CV 1/5] END criterion=entropy, max_depth=3, max_features=auto, splitter=best;, score=nan total time=   0.0s\n",
      "[CV 2/5] END criterion=entropy, max_depth=3, max_features=auto, splitter=best;, score=nan total time=   0.0s\n",
      "[CV 3/5] END criterion=entropy, max_depth=3, max_features=auto, splitter=best;, score=nan total time=   0.0s\n",
      "[CV 4/5] END criterion=entropy, max_depth=3, max_features=auto, splitter=best;, score=nan total time=   0.0s\n",
      "[CV 5/5] END criterion=entropy, max_depth=3, max_features=auto, splitter=best;, score=nan total time=   0.0s\n",
      "[CV 1/5] END criterion=entropy, max_depth=3, max_features=auto, splitter=random;, score=nan total time=   0.0s\n",
      "[CV 2/5] END criterion=entropy, max_depth=3, max_features=auto, splitter=random;, score=nan total time=   0.0s\n",
      "[CV 3/5] END criterion=entropy, max_depth=3, max_features=auto, splitter=random;, score=nan total time=   0.0s\n",
      "[CV 4/5] END criterion=entropy, max_depth=3, max_features=auto, splitter=random;, score=nan total time=   0.0s\n",
      "[CV 5/5] END criterion=entropy, max_depth=3, max_features=auto, splitter=random;, score=nan total time=   0.0s\n",
      "[CV 1/5] END criterion=entropy, max_depth=3, max_features=sqrt, splitter=best;, score=0.759 total time=   0.0s\n",
      "[CV 2/5] END criterion=entropy, max_depth=3, max_features=sqrt, splitter=best;, score=0.678 total time=   0.0s\n",
      "[CV 3/5] END criterion=entropy, max_depth=3, max_features=sqrt, splitter=best;, score=0.800 total time=   0.0s\n",
      "[CV 4/5] END criterion=entropy, max_depth=3, max_features=sqrt, splitter=best;, score=0.652 total time=   0.0s\n",
      "[CV 5/5] END criterion=entropy, max_depth=3, max_features=sqrt, splitter=best;, score=0.748 total time=   0.0s\n",
      "[CV 1/5] END criterion=entropy, max_depth=3, max_features=sqrt, splitter=random;, score=0.681 total time=   0.0s\n",
      "[CV 2/5] END criterion=entropy, max_depth=3, max_features=sqrt, splitter=random;, score=0.635 total time=   0.0s\n",
      "[CV 3/5] END criterion=entropy, max_depth=3, max_features=sqrt, splitter=random;, score=0.661 total time=   0.0s\n",
      "[CV 4/5] END criterion=entropy, max_depth=3, max_features=sqrt, splitter=random;, score=0.652 total time=   0.0s\n",
      "[CV 5/5] END criterion=entropy, max_depth=3, max_features=sqrt, splitter=random;, score=0.757 total time=   0.0s\n",
      "[CV 1/5] END criterion=entropy, max_depth=3, max_features=log2, splitter=best;, score=0.750 total time=   0.0s\n",
      "[CV 2/5] END criterion=entropy, max_depth=3, max_features=log2, splitter=best;, score=0.713 total time=   0.0s\n",
      "[CV 3/5] END criterion=entropy, max_depth=3, max_features=log2, splitter=best;, score=0.809 total time=   0.0s\n",
      "[CV 4/5] END criterion=entropy, max_depth=3, max_features=log2, splitter=best;, score=0.661 total time=   0.0s\n",
      "[CV 5/5] END criterion=entropy, max_depth=3, max_features=log2, splitter=best;, score=0.765 total time=   0.0s\n",
      "[CV 1/5] END criterion=entropy, max_depth=3, max_features=log2, splitter=random;, score=0.724 total time=   0.0s\n",
      "[CV 2/5] END criterion=entropy, max_depth=3, max_features=log2, splitter=random;, score=0.670 total time=   0.0s\n",
      "[CV 3/5] END criterion=entropy, max_depth=3, max_features=log2, splitter=random;, score=0.748 total time=   0.0s\n",
      "[CV 4/5] END criterion=entropy, max_depth=3, max_features=log2, splitter=random;, score=0.678 total time=   0.0s\n",
      "[CV 5/5] END criterion=entropy, max_depth=3, max_features=log2, splitter=random;, score=0.670 total time=   0.0s\n",
      "[CV 1/5] END criterion=entropy, max_depth=4, max_features=auto, splitter=best;, score=nan total time=   0.0s\n",
      "[CV 2/5] END criterion=entropy, max_depth=4, max_features=auto, splitter=best;, score=nan total time=   0.0s\n",
      "[CV 3/5] END criterion=entropy, max_depth=4, max_features=auto, splitter=best;, score=nan total time=   0.0s\n",
      "[CV 4/5] END criterion=entropy, max_depth=4, max_features=auto, splitter=best;, score=nan total time=   0.0s\n",
      "[CV 5/5] END criterion=entropy, max_depth=4, max_features=auto, splitter=best;, score=nan total time=   0.0s\n",
      "[CV 1/5] END criterion=entropy, max_depth=4, max_features=auto, splitter=random;, score=nan total time=   0.0s\n",
      "[CV 2/5] END criterion=entropy, max_depth=4, max_features=auto, splitter=random;, score=nan total time=   0.0s\n",
      "[CV 3/5] END criterion=entropy, max_depth=4, max_features=auto, splitter=random;, score=nan total time=   0.0s\n",
      "[CV 4/5] END criterion=entropy, max_depth=4, max_features=auto, splitter=random;, score=nan total time=   0.0s\n",
      "[CV 5/5] END criterion=entropy, max_depth=4, max_features=auto, splitter=random;, score=nan total time=   0.0s\n",
      "[CV 1/5] END criterion=entropy, max_depth=4, max_features=sqrt, splitter=best;, score=0.741 total time=   0.0s\n",
      "[CV 2/5] END criterion=entropy, max_depth=4, max_features=sqrt, splitter=best;, score=0.722 total time=   0.0s\n",
      "[CV 3/5] END criterion=entropy, max_depth=4, max_features=sqrt, splitter=best;, score=0.678 total time=   0.0s\n",
      "[CV 4/5] END criterion=entropy, max_depth=4, max_features=sqrt, splitter=best;, score=0.617 total time=   0.0s\n",
      "[CV 5/5] END criterion=entropy, max_depth=4, max_features=sqrt, splitter=best;, score=0.739 total time=   0.0s\n",
      "[CV 1/5] END criterion=entropy, max_depth=4, max_features=sqrt, splitter=random;, score=0.664 total time=   0.0s\n",
      "[CV 2/5] END criterion=entropy, max_depth=4, max_features=sqrt, splitter=random;, score=0.774 total time=   0.0s\n",
      "[CV 3/5] END criterion=entropy, max_depth=4, max_features=sqrt, splitter=random;, score=0.643 total time=   0.0s\n",
      "[CV 4/5] END criterion=entropy, max_depth=4, max_features=sqrt, splitter=random;, score=0.670 total time=   0.0s\n",
      "[CV 5/5] END criterion=entropy, max_depth=4, max_features=sqrt, splitter=random;, score=0.713 total time=   0.0s\n",
      "[CV 1/5] END criterion=entropy, max_depth=4, max_features=log2, splitter=best;, score=0.741 total time=   0.0s\n",
      "[CV 2/5] END criterion=entropy, max_depth=4, max_features=log2, splitter=best;, score=0.757 total time=   0.0s\n",
      "[CV 3/5] END criterion=entropy, max_depth=4, max_features=log2, splitter=best;, score=0.783 total time=   0.0s\n",
      "[CV 4/5] END criterion=entropy, max_depth=4, max_features=log2, splitter=best;, score=0.713 total time=   0.0s\n",
      "[CV 5/5] END criterion=entropy, max_depth=4, max_features=log2, splitter=best;, score=0.722 total time=   0.0s\n",
      "[CV 1/5] END criterion=entropy, max_depth=4, max_features=log2, splitter=random;, score=0.750 total time=   0.0s\n",
      "[CV 2/5] END criterion=entropy, max_depth=4, max_features=log2, splitter=random;, score=0.678 total time=   0.0s\n",
      "[CV 3/5] END criterion=entropy, max_depth=4, max_features=log2, splitter=random;, score=0.678 total time=   0.0s\n",
      "[CV 4/5] END criterion=entropy, max_depth=4, max_features=log2, splitter=random;, score=0.704 total time=   0.0s\n",
      "[CV 5/5] END criterion=entropy, max_depth=4, max_features=log2, splitter=random;, score=0.765 total time=   0.0s\n",
      "[CV 1/5] END criterion=entropy, max_depth=5, max_features=auto, splitter=best;, score=nan total time=   0.0s\n",
      "[CV 2/5] END criterion=entropy, max_depth=5, max_features=auto, splitter=best;, score=nan total time=   0.0s\n",
      "[CV 3/5] END criterion=entropy, max_depth=5, max_features=auto, splitter=best;, score=nan total time=   0.0s\n",
      "[CV 4/5] END criterion=entropy, max_depth=5, max_features=auto, splitter=best;, score=nan total time=   0.0s\n",
      "[CV 5/5] END criterion=entropy, max_depth=5, max_features=auto, splitter=best;, score=nan total time=   0.0s\n",
      "[CV 1/5] END criterion=entropy, max_depth=5, max_features=auto, splitter=random;, score=nan total time=   0.0s\n",
      "[CV 2/5] END criterion=entropy, max_depth=5, max_features=auto, splitter=random;, score=nan total time=   0.0s\n",
      "[CV 3/5] END criterion=entropy, max_depth=5, max_features=auto, splitter=random;, score=nan total time=   0.0s\n",
      "[CV 4/5] END criterion=entropy, max_depth=5, max_features=auto, splitter=random;, score=nan total time=   0.0s\n",
      "[CV 5/5] END criterion=entropy, max_depth=5, max_features=auto, splitter=random;, score=nan total time=   0.0s\n",
      "[CV 1/5] END criterion=entropy, max_depth=5, max_features=sqrt, splitter=best;, score=0.733 total time=   0.0s\n",
      "[CV 2/5] END criterion=entropy, max_depth=5, max_features=sqrt, splitter=best;, score=0.722 total time=   0.0s\n",
      "[CV 3/5] END criterion=entropy, max_depth=5, max_features=sqrt, splitter=best;, score=0.687 total time=   0.0s\n",
      "[CV 4/5] END criterion=entropy, max_depth=5, max_features=sqrt, splitter=best;, score=0.661 total time=   0.0s\n",
      "[CV 5/5] END criterion=entropy, max_depth=5, max_features=sqrt, splitter=best;, score=0.791 total time=   0.0s\n",
      "[CV 1/5] END criterion=entropy, max_depth=5, max_features=sqrt, splitter=random;, score=0.681 total time=   0.0s\n",
      "[CV 2/5] END criterion=entropy, max_depth=5, max_features=sqrt, splitter=random;, score=0.643 total time=   0.0s\n",
      "[CV 3/5] END criterion=entropy, max_depth=5, max_features=sqrt, splitter=random;, score=0.652 total time=   0.0s\n",
      "[CV 4/5] END criterion=entropy, max_depth=5, max_features=sqrt, splitter=random;, score=0.687 total time=   0.0s\n",
      "[CV 5/5] END criterion=entropy, max_depth=5, max_features=sqrt, splitter=random;, score=0.713 total time=   0.0s\n",
      "[CV 1/5] END criterion=entropy, max_depth=5, max_features=log2, splitter=best;, score=0.741 total time=   0.0s\n",
      "[CV 2/5] END criterion=entropy, max_depth=5, max_features=log2, splitter=best;, score=0.739 total time=   0.0s\n",
      "[CV 3/5] END criterion=entropy, max_depth=5, max_features=log2, splitter=best;, score=0.774 total time=   0.0s\n",
      "[CV 4/5] END criterion=entropy, max_depth=5, max_features=log2, splitter=best;, score=0.678 total time=   0.0s\n",
      "[CV 5/5] END criterion=entropy, max_depth=5, max_features=log2, splitter=best;, score=0.696 total time=   0.0s\n",
      "[CV 1/5] END criterion=entropy, max_depth=5, max_features=log2, splitter=random;, score=0.767 total time=   0.0s\n",
      "[CV 2/5] END criterion=entropy, max_depth=5, max_features=log2, splitter=random;, score=0.757 total time=   0.0s\n",
      "[CV 3/5] END criterion=entropy, max_depth=5, max_features=log2, splitter=random;, score=0.704 total time=   0.0s\n",
      "[CV 4/5] END criterion=entropy, max_depth=5, max_features=log2, splitter=random;, score=0.696 total time=   0.0s\n",
      "[CV 5/5] END criterion=entropy, max_depth=5, max_features=log2, splitter=random;, score=0.678 total time=   0.0s\n",
      "[CV 1/5] END criterion=log_loss, max_depth=1, max_features=auto, splitter=best;, score=nan total time=   0.0s\n",
      "[CV 2/5] END criterion=log_loss, max_depth=1, max_features=auto, splitter=best;, score=nan total time=   0.0s\n",
      "[CV 3/5] END criterion=log_loss, max_depth=1, max_features=auto, splitter=best;, score=nan total time=   0.0s\n",
      "[CV 4/5] END criterion=log_loss, max_depth=1, max_features=auto, splitter=best;, score=nan total time=   0.0s\n",
      "[CV 5/5] END criterion=log_loss, max_depth=1, max_features=auto, splitter=best;, score=nan total time=   0.0s\n",
      "[CV 1/5] END criterion=log_loss, max_depth=1, max_features=auto, splitter=random;, score=nan total time=   0.0s\n",
      "[CV 2/5] END criterion=log_loss, max_depth=1, max_features=auto, splitter=random;, score=nan total time=   0.0s\n",
      "[CV 3/5] END criterion=log_loss, max_depth=1, max_features=auto, splitter=random;, score=nan total time=   0.0s\n",
      "[CV 4/5] END criterion=log_loss, max_depth=1, max_features=auto, splitter=random;, score=nan total time=   0.0s\n",
      "[CV 5/5] END criterion=log_loss, max_depth=1, max_features=auto, splitter=random;, score=nan total time=   0.0s\n",
      "[CV 1/5] END criterion=log_loss, max_depth=1, max_features=sqrt, splitter=best;, score=0.655 total time=   0.0s\n",
      "[CV 2/5] END criterion=log_loss, max_depth=1, max_features=sqrt, splitter=best;, score=0.652 total time=   0.0s\n",
      "[CV 3/5] END criterion=log_loss, max_depth=1, max_features=sqrt, splitter=best;, score=0.652 total time=   0.0s\n",
      "[CV 4/5] END criterion=log_loss, max_depth=1, max_features=sqrt, splitter=best;, score=0.713 total time=   0.0s\n",
      "[CV 5/5] END criterion=log_loss, max_depth=1, max_features=sqrt, splitter=best;, score=0.670 total time=   0.0s\n",
      "[CV 1/5] END criterion=log_loss, max_depth=1, max_features=sqrt, splitter=random;, score=0.621 total time=   0.0s\n",
      "[CV 2/5] END criterion=log_loss, max_depth=1, max_features=sqrt, splitter=random;, score=0.652 total time=   0.0s\n",
      "[CV 3/5] END criterion=log_loss, max_depth=1, max_features=sqrt, splitter=random;, score=0.652 total time=   0.0s\n",
      "[CV 4/5] END criterion=log_loss, max_depth=1, max_features=sqrt, splitter=random;, score=0.652 total time=   0.0s\n",
      "[CV 5/5] END criterion=log_loss, max_depth=1, max_features=sqrt, splitter=random;, score=0.661 total time=   0.0s\n",
      "[CV 1/5] END criterion=log_loss, max_depth=1, max_features=log2, splitter=best;, score=0.655 total time=   0.0s\n",
      "[CV 2/5] END criterion=log_loss, max_depth=1, max_features=log2, splitter=best;, score=0.652 total time=   0.0s\n",
      "[CV 3/5] END criterion=log_loss, max_depth=1, max_features=log2, splitter=best;, score=0.774 total time=   0.0s\n",
      "[CV 4/5] END criterion=log_loss, max_depth=1, max_features=log2, splitter=best;, score=0.652 total time=   0.0s\n",
      "[CV 5/5] END criterion=log_loss, max_depth=1, max_features=log2, splitter=best;, score=0.722 total time=   0.0s\n",
      "[CV 1/5] END criterion=log_loss, max_depth=1, max_features=log2, splitter=random;, score=0.655 total time=   0.0s\n",
      "[CV 2/5] END criterion=log_loss, max_depth=1, max_features=log2, splitter=random;, score=0.687 total time=   0.0s\n",
      "[CV 3/5] END criterion=log_loss, max_depth=1, max_features=log2, splitter=random;, score=0.730 total time=   0.0s\n",
      "[CV 4/5] END criterion=log_loss, max_depth=1, max_features=log2, splitter=random;, score=0.652 total time=   0.0s\n",
      "[CV 5/5] END criterion=log_loss, max_depth=1, max_features=log2, splitter=random;, score=0.661 total time=   0.0s\n",
      "[CV 1/5] END criterion=log_loss, max_depth=2, max_features=auto, splitter=best;, score=nan total time=   0.0s\n",
      "[CV 2/5] END criterion=log_loss, max_depth=2, max_features=auto, splitter=best;, score=nan total time=   0.0s\n",
      "[CV 3/5] END criterion=log_loss, max_depth=2, max_features=auto, splitter=best;, score=nan total time=   0.0s\n",
      "[CV 4/5] END criterion=log_loss, max_depth=2, max_features=auto, splitter=best;, score=nan total time=   0.0s\n",
      "[CV 5/5] END criterion=log_loss, max_depth=2, max_features=auto, splitter=best;, score=nan total time=   0.0s\n",
      "[CV 1/5] END criterion=log_loss, max_depth=2, max_features=auto, splitter=random;, score=nan total time=   0.0s\n",
      "[CV 2/5] END criterion=log_loss, max_depth=2, max_features=auto, splitter=random;, score=nan total time=   0.0s\n",
      "[CV 3/5] END criterion=log_loss, max_depth=2, max_features=auto, splitter=random;, score=nan total time=   0.0s\n",
      "[CV 4/5] END criterion=log_loss, max_depth=2, max_features=auto, splitter=random;, score=nan total time=   0.0s\n",
      "[CV 5/5] END criterion=log_loss, max_depth=2, max_features=auto, splitter=random;, score=nan total time=   0.0s\n",
      "[CV 1/5] END criterion=log_loss, max_depth=2, max_features=sqrt, splitter=best;, score=0.647 total time=   0.0s\n",
      "[CV 2/5] END criterion=log_loss, max_depth=2, max_features=sqrt, splitter=best;, score=0.739 total time=   0.0s\n",
      "[CV 3/5] END criterion=log_loss, max_depth=2, max_features=sqrt, splitter=best;, score=0.652 total time=   0.0s\n",
      "[CV 4/5] END criterion=log_loss, max_depth=2, max_features=sqrt, splitter=best;, score=0.713 total time=   0.0s\n",
      "[CV 5/5] END criterion=log_loss, max_depth=2, max_features=sqrt, splitter=best;, score=0.748 total time=   0.0s\n",
      "[CV 1/5] END criterion=log_loss, max_depth=2, max_features=sqrt, splitter=random;, score=0.655 total time=   0.0s\n",
      "[CV 2/5] END criterion=log_loss, max_depth=2, max_features=sqrt, splitter=random;, score=0.652 total time=   0.0s\n",
      "[CV 3/5] END criterion=log_loss, max_depth=2, max_features=sqrt, splitter=random;, score=0.661 total time=   0.0s\n",
      "[CV 4/5] END criterion=log_loss, max_depth=2, max_features=sqrt, splitter=random;, score=0.661 total time=   0.0s\n",
      "[CV 5/5] END criterion=log_loss, max_depth=2, max_features=sqrt, splitter=random;, score=0.670 total time=   0.0s\n",
      "[CV 1/5] END criterion=log_loss, max_depth=2, max_features=log2, splitter=best;, score=0.612 total time=   0.0s\n",
      "[CV 2/5] END criterion=log_loss, max_depth=2, max_features=log2, splitter=best;, score=0.678 total time=   0.0s\n",
      "[CV 3/5] END criterion=log_loss, max_depth=2, max_features=log2, splitter=best;, score=0.791 total time=   0.0s\n",
      "[CV 4/5] END criterion=log_loss, max_depth=2, max_features=log2, splitter=best;, score=0.713 total time=   0.0s\n",
      "[CV 5/5] END criterion=log_loss, max_depth=2, max_features=log2, splitter=best;, score=0.774 total time=   0.0s\n",
      "[CV 1/5] END criterion=log_loss, max_depth=2, max_features=log2, splitter=random;, score=0.733 total time=   0.0s\n",
      "[CV 2/5] END criterion=log_loss, max_depth=2, max_features=log2, splitter=random;, score=0.748 total time=   0.0s\n",
      "[CV 3/5] END criterion=log_loss, max_depth=2, max_features=log2, splitter=random;, score=0.661 total time=   0.0s\n",
      "[CV 4/5] END criterion=log_loss, max_depth=2, max_features=log2, splitter=random;, score=0.652 total time=   0.0s\n",
      "[CV 5/5] END criterion=log_loss, max_depth=2, max_features=log2, splitter=random;, score=0.739 total time=   0.0s\n",
      "[CV 1/5] END criterion=log_loss, max_depth=3, max_features=auto, splitter=best;, score=nan total time=   0.0s\n",
      "[CV 2/5] END criterion=log_loss, max_depth=3, max_features=auto, splitter=best;, score=nan total time=   0.0s\n",
      "[CV 3/5] END criterion=log_loss, max_depth=3, max_features=auto, splitter=best;, score=nan total time=   0.0s\n",
      "[CV 4/5] END criterion=log_loss, max_depth=3, max_features=auto, splitter=best;, score=nan total time=   0.0s\n",
      "[CV 5/5] END criterion=log_loss, max_depth=3, max_features=auto, splitter=best;, score=nan total time=   0.0s\n",
      "[CV 1/5] END criterion=log_loss, max_depth=3, max_features=auto, splitter=random;, score=nan total time=   0.0s\n",
      "[CV 2/5] END criterion=log_loss, max_depth=3, max_features=auto, splitter=random;, score=nan total time=   0.0s\n",
      "[CV 3/5] END criterion=log_loss, max_depth=3, max_features=auto, splitter=random;, score=nan total time=   0.0s\n",
      "[CV 4/5] END criterion=log_loss, max_depth=3, max_features=auto, splitter=random;, score=nan total time=   0.0s\n",
      "[CV 5/5] END criterion=log_loss, max_depth=3, max_features=auto, splitter=random;, score=nan total time=   0.0s\n",
      "[CV 1/5] END criterion=log_loss, max_depth=3, max_features=sqrt, splitter=best;, score=0.716 total time=   0.0s\n",
      "[CV 2/5] END criterion=log_loss, max_depth=3, max_features=sqrt, splitter=best;, score=0.696 total time=   0.0s\n",
      "[CV 3/5] END criterion=log_loss, max_depth=3, max_features=sqrt, splitter=best;, score=0.678 total time=   0.0s\n",
      "[CV 4/5] END criterion=log_loss, max_depth=3, max_features=sqrt, splitter=best;, score=0.730 total time=   0.0s\n",
      "[CV 5/5] END criterion=log_loss, max_depth=3, max_features=sqrt, splitter=best;, score=0.722 total time=   0.0s\n",
      "[CV 1/5] END criterion=log_loss, max_depth=3, max_features=sqrt, splitter=random;, score=0.655 total time=   0.0s\n",
      "[CV 2/5] END criterion=log_loss, max_depth=3, max_features=sqrt, splitter=random;, score=0.678 total time=   0.0s\n",
      "[CV 3/5] END criterion=log_loss, max_depth=3, max_features=sqrt, splitter=random;, score=0.783 total time=   0.0s\n",
      "[CV 4/5] END criterion=log_loss, max_depth=3, max_features=sqrt, splitter=random;, score=0.635 total time=   0.0s\n",
      "[CV 5/5] END criterion=log_loss, max_depth=3, max_features=sqrt, splitter=random;, score=0.626 total time=   0.0s\n",
      "[CV 1/5] END criterion=log_loss, max_depth=3, max_features=log2, splitter=best;, score=0.672 total time=   0.0s\n",
      "[CV 2/5] END criterion=log_loss, max_depth=3, max_features=log2, splitter=best;, score=0.722 total time=   0.0s\n",
      "[CV 3/5] END criterion=log_loss, max_depth=3, max_features=log2, splitter=best;, score=0.704 total time=   0.0s\n",
      "[CV 4/5] END criterion=log_loss, max_depth=3, max_features=log2, splitter=best;, score=0.713 total time=   0.0s\n",
      "[CV 5/5] END criterion=log_loss, max_depth=3, max_features=log2, splitter=best;, score=0.687 total time=   0.0s\n",
      "[CV 1/5] END criterion=log_loss, max_depth=3, max_features=log2, splitter=random;, score=0.750 total time=   0.0s\n",
      "[CV 2/5] END criterion=log_loss, max_depth=3, max_features=log2, splitter=random;, score=0.765 total time=   0.0s\n",
      "[CV 3/5] END criterion=log_loss, max_depth=3, max_features=log2, splitter=random;, score=0.739 total time=   0.0s\n",
      "[CV 4/5] END criterion=log_loss, max_depth=3, max_features=log2, splitter=random;, score=0.661 total time=   0.0s\n",
      "[CV 5/5] END criterion=log_loss, max_depth=3, max_features=log2, splitter=random;, score=0.748 total time=   0.0s\n",
      "[CV 1/5] END criterion=log_loss, max_depth=4, max_features=auto, splitter=best;, score=nan total time=   0.0s\n",
      "[CV 2/5] END criterion=log_loss, max_depth=4, max_features=auto, splitter=best;, score=nan total time=   0.0s\n",
      "[CV 3/5] END criterion=log_loss, max_depth=4, max_features=auto, splitter=best;, score=nan total time=   0.0s\n",
      "[CV 4/5] END criterion=log_loss, max_depth=4, max_features=auto, splitter=best;, score=nan total time=   0.0s\n",
      "[CV 5/5] END criterion=log_loss, max_depth=4, max_features=auto, splitter=best;, score=nan total time=   0.0s\n",
      "[CV 1/5] END criterion=log_loss, max_depth=4, max_features=auto, splitter=random;, score=nan total time=   0.0s\n",
      "[CV 2/5] END criterion=log_loss, max_depth=4, max_features=auto, splitter=random;, score=nan total time=   0.0s\n",
      "[CV 3/5] END criterion=log_loss, max_depth=4, max_features=auto, splitter=random;, score=nan total time=   0.0s\n",
      "[CV 4/5] END criterion=log_loss, max_depth=4, max_features=auto, splitter=random;, score=nan total time=   0.0s\n",
      "[CV 5/5] END criterion=log_loss, max_depth=4, max_features=auto, splitter=random;, score=nan total time=   0.0s\n",
      "[CV 1/5] END criterion=log_loss, max_depth=4, max_features=sqrt, splitter=best;, score=0.741 total time=   0.0s\n",
      "[CV 2/5] END criterion=log_loss, max_depth=4, max_features=sqrt, splitter=best;, score=0.687 total time=   0.0s\n",
      "[CV 3/5] END criterion=log_loss, max_depth=4, max_features=sqrt, splitter=best;, score=0.783 total time=   0.0s\n",
      "[CV 4/5] END criterion=log_loss, max_depth=4, max_features=sqrt, splitter=best;, score=0.678 total time=   0.0s\n",
      "[CV 5/5] END criterion=log_loss, max_depth=4, max_features=sqrt, splitter=best;, score=0.722 total time=   0.0s\n",
      "[CV 1/5] END criterion=log_loss, max_depth=4, max_features=sqrt, splitter=random;, score=0.690 total time=   0.0s\n",
      "[CV 2/5] END criterion=log_loss, max_depth=4, max_features=sqrt, splitter=random;, score=0.748 total time=   0.0s\n",
      "[CV 3/5] END criterion=log_loss, max_depth=4, max_features=sqrt, splitter=random;, score=0.661 total time=   0.0s\n",
      "[CV 4/5] END criterion=log_loss, max_depth=4, max_features=sqrt, splitter=random;, score=0.704 total time=   0.0s\n",
      "[CV 5/5] END criterion=log_loss, max_depth=4, max_features=sqrt, splitter=random;, score=0.704 total time=   0.0s\n",
      "[CV 1/5] END criterion=log_loss, max_depth=4, max_features=log2, splitter=best;, score=0.750 total time=   0.0s\n",
      "[CV 2/5] END criterion=log_loss, max_depth=4, max_features=log2, splitter=best;, score=0.722 total time=   0.0s\n",
      "[CV 3/5] END criterion=log_loss, max_depth=4, max_features=log2, splitter=best;, score=0.791 total time=   0.0s\n",
      "[CV 4/5] END criterion=log_loss, max_depth=4, max_features=log2, splitter=best;, score=0.713 total time=   0.0s\n",
      "[CV 5/5] END criterion=log_loss, max_depth=4, max_features=log2, splitter=best;, score=0.739 total time=   0.0s\n",
      "[CV 1/5] END criterion=log_loss, max_depth=4, max_features=log2, splitter=random;, score=0.741 total time=   0.0s\n",
      "[CV 2/5] END criterion=log_loss, max_depth=4, max_features=log2, splitter=random;, score=0.713 total time=   0.0s\n",
      "[CV 3/5] END criterion=log_loss, max_depth=4, max_features=log2, splitter=random;, score=0.687 total time=   0.0s\n",
      "[CV 4/5] END criterion=log_loss, max_depth=4, max_features=log2, splitter=random;, score=0.661 total time=   0.0s\n",
      "[CV 5/5] END criterion=log_loss, max_depth=4, max_features=log2, splitter=random;, score=0.687 total time=   0.0s\n",
      "[CV 1/5] END criterion=log_loss, max_depth=5, max_features=auto, splitter=best;, score=nan total time=   0.0s\n",
      "[CV 2/5] END criterion=log_loss, max_depth=5, max_features=auto, splitter=best;, score=nan total time=   0.0s\n",
      "[CV 3/5] END criterion=log_loss, max_depth=5, max_features=auto, splitter=best;, score=nan total time=   0.0s\n",
      "[CV 4/5] END criterion=log_loss, max_depth=5, max_features=auto, splitter=best;, score=nan total time=   0.0s\n",
      "[CV 5/5] END criterion=log_loss, max_depth=5, max_features=auto, splitter=best;, score=nan total time=   0.0s\n",
      "[CV 1/5] END criterion=log_loss, max_depth=5, max_features=auto, splitter=random;, score=nan total time=   0.0s\n",
      "[CV 2/5] END criterion=log_loss, max_depth=5, max_features=auto, splitter=random;, score=nan total time=   0.0s\n",
      "[CV 3/5] END criterion=log_loss, max_depth=5, max_features=auto, splitter=random;, score=nan total time=   0.0s\n",
      "[CV 4/5] END criterion=log_loss, max_depth=5, max_features=auto, splitter=random;, score=nan total time=   0.0s\n",
      "[CV 5/5] END criterion=log_loss, max_depth=5, max_features=auto, splitter=random;, score=nan total time=   0.0s\n",
      "[CV 1/5] END criterion=log_loss, max_depth=5, max_features=sqrt, splitter=best;, score=0.750 total time=   0.0s\n",
      "[CV 2/5] END criterion=log_loss, max_depth=5, max_features=sqrt, splitter=best;, score=0.643 total time=   0.0s\n",
      "[CV 3/5] END criterion=log_loss, max_depth=5, max_features=sqrt, splitter=best;, score=0.722 total time=   0.0s\n",
      "[CV 4/5] END criterion=log_loss, max_depth=5, max_features=sqrt, splitter=best;, score=0.704 total time=   0.0s\n",
      "[CV 5/5] END criterion=log_loss, max_depth=5, max_features=sqrt, splitter=best;, score=0.696 total time=   0.0s\n",
      "[CV 1/5] END criterion=log_loss, max_depth=5, max_features=sqrt, splitter=random;, score=0.759 total time=   0.0s\n",
      "[CV 2/5] END criterion=log_loss, max_depth=5, max_features=sqrt, splitter=random;, score=0.652 total time=   0.0s\n",
      "[CV 3/5] END criterion=log_loss, max_depth=5, max_features=sqrt, splitter=random;, score=0.774 total time=   0.0s\n",
      "[CV 4/5] END criterion=log_loss, max_depth=5, max_features=sqrt, splitter=random;, score=0.635 total time=   0.0s\n",
      "[CV 5/5] END criterion=log_loss, max_depth=5, max_features=sqrt, splitter=random;, score=0.739 total time=   0.0s\n",
      "[CV 1/5] END criterion=log_loss, max_depth=5, max_features=log2, splitter=best;, score=0.750 total time=   0.0s\n",
      "[CV 2/5] END criterion=log_loss, max_depth=5, max_features=log2, splitter=best;, score=0.722 total time=   0.0s\n",
      "[CV 3/5] END criterion=log_loss, max_depth=5, max_features=log2, splitter=best;, score=0.730 total time=   0.0s\n",
      "[CV 4/5] END criterion=log_loss, max_depth=5, max_features=log2, splitter=best;, score=0.687 total time=   0.0s\n",
      "[CV 5/5] END criterion=log_loss, max_depth=5, max_features=log2, splitter=best;, score=0.757 total time=   0.0s\n",
      "[CV 1/5] END criterion=log_loss, max_depth=5, max_features=log2, splitter=random;, score=0.767 total time=   0.0s\n",
      "[CV 2/5] END criterion=log_loss, max_depth=5, max_features=log2, splitter=random;, score=0.722 total time=   0.0s\n",
      "[CV 3/5] END criterion=log_loss, max_depth=5, max_features=log2, splitter=random;, score=0.730 total time=   0.0s\n",
      "[CV 4/5] END criterion=log_loss, max_depth=5, max_features=log2, splitter=random;, score=0.696 total time=   0.0s\n",
      "[CV 5/5] END criterion=log_loss, max_depth=5, max_features=log2, splitter=random;, score=0.739 total time=   0.0s\n"
     ]
    },
    {
     "data": {
      "text/html": [
       "<style>#sk-container-id-1 {color: black;}#sk-container-id-1 pre{padding: 0;}#sk-container-id-1 div.sk-toggleable {background-color: white;}#sk-container-id-1 label.sk-toggleable__label {cursor: pointer;display: block;width: 100%;margin-bottom: 0;padding: 0.3em;box-sizing: border-box;text-align: center;}#sk-container-id-1 label.sk-toggleable__label-arrow:before {content: \"▸\";float: left;margin-right: 0.25em;color: #696969;}#sk-container-id-1 label.sk-toggleable__label-arrow:hover:before {color: black;}#sk-container-id-1 div.sk-estimator:hover label.sk-toggleable__label-arrow:before {color: black;}#sk-container-id-1 div.sk-toggleable__content {max-height: 0;max-width: 0;overflow: hidden;text-align: left;background-color: #f0f8ff;}#sk-container-id-1 div.sk-toggleable__content pre {margin: 0.2em;color: black;border-radius: 0.25em;background-color: #f0f8ff;}#sk-container-id-1 input.sk-toggleable__control:checked~div.sk-toggleable__content {max-height: 200px;max-width: 100%;overflow: auto;}#sk-container-id-1 input.sk-toggleable__control:checked~label.sk-toggleable__label-arrow:before {content: \"▾\";}#sk-container-id-1 div.sk-estimator input.sk-toggleable__control:checked~label.sk-toggleable__label {background-color: #d4ebff;}#sk-container-id-1 div.sk-label input.sk-toggleable__control:checked~label.sk-toggleable__label {background-color: #d4ebff;}#sk-container-id-1 input.sk-hidden--visually {border: 0;clip: rect(1px 1px 1px 1px);clip: rect(1px, 1px, 1px, 1px);height: 1px;margin: -1px;overflow: hidden;padding: 0;position: absolute;width: 1px;}#sk-container-id-1 div.sk-estimator {font-family: monospace;background-color: #f0f8ff;border: 1px dotted black;border-radius: 0.25em;box-sizing: border-box;margin-bottom: 0.5em;}#sk-container-id-1 div.sk-estimator:hover {background-color: #d4ebff;}#sk-container-id-1 div.sk-parallel-item::after {content: \"\";width: 100%;border-bottom: 1px solid gray;flex-grow: 1;}#sk-container-id-1 div.sk-label:hover label.sk-toggleable__label {background-color: #d4ebff;}#sk-container-id-1 div.sk-serial::before {content: \"\";position: absolute;border-left: 1px solid gray;box-sizing: border-box;top: 0;bottom: 0;left: 50%;z-index: 0;}#sk-container-id-1 div.sk-serial {display: flex;flex-direction: column;align-items: center;background-color: white;padding-right: 0.2em;padding-left: 0.2em;position: relative;}#sk-container-id-1 div.sk-item {position: relative;z-index: 1;}#sk-container-id-1 div.sk-parallel {display: flex;align-items: stretch;justify-content: center;background-color: white;position: relative;}#sk-container-id-1 div.sk-item::before, #sk-container-id-1 div.sk-parallel-item::before {content: \"\";position: absolute;border-left: 1px solid gray;box-sizing: border-box;top: 0;bottom: 0;left: 50%;z-index: -1;}#sk-container-id-1 div.sk-parallel-item {display: flex;flex-direction: column;z-index: 1;position: relative;background-color: white;}#sk-container-id-1 div.sk-parallel-item:first-child::after {align-self: flex-end;width: 50%;}#sk-container-id-1 div.sk-parallel-item:last-child::after {align-self: flex-start;width: 50%;}#sk-container-id-1 div.sk-parallel-item:only-child::after {width: 0;}#sk-container-id-1 div.sk-dashed-wrapped {border: 1px dashed gray;margin: 0 0.4em 0.5em 0.4em;box-sizing: border-box;padding-bottom: 0.4em;background-color: white;}#sk-container-id-1 div.sk-label label {font-family: monospace;font-weight: bold;display: inline-block;line-height: 1.2em;}#sk-container-id-1 div.sk-label-container {text-align: center;}#sk-container-id-1 div.sk-container {/* jupyter's `normalize.less` sets `[hidden] { display: none; }` but bootstrap.min.css set `[hidden] { display: none !important; }` so we also need the `!important` here to be able to override the default hidden behavior on the sphinx rendered scikit-learn.org. See: https://github.com/scikit-learn/scikit-learn/issues/21755 */display: inline-block !important;position: relative;}#sk-container-id-1 div.sk-text-repr-fallback {display: none;}</style><div id=\"sk-container-id-1\" class=\"sk-top-container\"><div class=\"sk-text-repr-fallback\"><pre>GridSearchCV(cv=5, estimator=DecisionTreeClassifier(),\n",
       "             param_grid={&#x27;criterion&#x27;: [&#x27;gini&#x27;, &#x27;entropy&#x27;, &#x27;log_loss&#x27;],\n",
       "                         &#x27;max_depth&#x27;: [1, 2, 3, 4, 5],\n",
       "                         &#x27;max_features&#x27;: [&#x27;auto&#x27;, &#x27;sqrt&#x27;, &#x27;log2&#x27;],\n",
       "                         &#x27;splitter&#x27;: [&#x27;best&#x27;, &#x27;random&#x27;]},\n",
       "             scoring=&#x27;accuracy&#x27;, verbose=3)</pre><b>In a Jupyter environment, please rerun this cell to show the HTML representation or trust the notebook. <br />On GitHub, the HTML representation is unable to render, please try loading this page with nbviewer.org.</b></div><div class=\"sk-container\" hidden><div class=\"sk-item sk-dashed-wrapped\"><div class=\"sk-label-container\"><div class=\"sk-label sk-toggleable\"><input class=\"sk-toggleable__control sk-hidden--visually\" id=\"sk-estimator-id-1\" type=\"checkbox\" ><label for=\"sk-estimator-id-1\" class=\"sk-toggleable__label sk-toggleable__label-arrow\">GridSearchCV</label><div class=\"sk-toggleable__content\"><pre>GridSearchCV(cv=5, estimator=DecisionTreeClassifier(),\n",
       "             param_grid={&#x27;criterion&#x27;: [&#x27;gini&#x27;, &#x27;entropy&#x27;, &#x27;log_loss&#x27;],\n",
       "                         &#x27;max_depth&#x27;: [1, 2, 3, 4, 5],\n",
       "                         &#x27;max_features&#x27;: [&#x27;auto&#x27;, &#x27;sqrt&#x27;, &#x27;log2&#x27;],\n",
       "                         &#x27;splitter&#x27;: [&#x27;best&#x27;, &#x27;random&#x27;]},\n",
       "             scoring=&#x27;accuracy&#x27;, verbose=3)</pre></div></div></div><div class=\"sk-parallel\"><div class=\"sk-parallel-item\"><div class=\"sk-item\"><div class=\"sk-label-container\"><div class=\"sk-label sk-toggleable\"><input class=\"sk-toggleable__control sk-hidden--visually\" id=\"sk-estimator-id-2\" type=\"checkbox\" ><label for=\"sk-estimator-id-2\" class=\"sk-toggleable__label sk-toggleable__label-arrow\">estimator: DecisionTreeClassifier</label><div class=\"sk-toggleable__content\"><pre>DecisionTreeClassifier()</pre></div></div></div><div class=\"sk-serial\"><div class=\"sk-item\"><div class=\"sk-estimator sk-toggleable\"><input class=\"sk-toggleable__control sk-hidden--visually\" id=\"sk-estimator-id-3\" type=\"checkbox\" ><label for=\"sk-estimator-id-3\" class=\"sk-toggleable__label sk-toggleable__label-arrow\">DecisionTreeClassifier</label><div class=\"sk-toggleable__content\"><pre>DecisionTreeClassifier()</pre></div></div></div></div></div></div></div></div></div></div>"
      ],
      "text/plain": [
       "GridSearchCV(cv=5, estimator=DecisionTreeClassifier(),\n",
       "             param_grid={'criterion': ['gini', 'entropy', 'log_loss'],\n",
       "                         'max_depth': [1, 2, 3, 4, 5],\n",
       "                         'max_features': ['auto', 'sqrt', 'log2'],\n",
       "                         'splitter': ['best', 'random']},\n",
       "             scoring='accuracy', verbose=3)"
      ]
     },
     "execution_count": 14,
     "metadata": {},
     "output_type": "execute_result"
    }
   ],
   "source": [
    "clf=GridSearchCV(classifier,param_grid=parameter,cv=5,scoring='accuracy',verbose=3)\n",
    "clf.fit(X_train,y_train)"
   ]
  },
  {
   "cell_type": "code",
   "execution_count": 15,
   "metadata": {},
   "outputs": [
    {
     "data": {
      "text/plain": [
       "{'criterion': 'gini',\n",
       " 'max_depth': 3,\n",
       " 'max_features': 'log2',\n",
       " 'splitter': 'best'}"
      ]
     },
     "execution_count": 15,
     "metadata": {},
     "output_type": "execute_result"
    }
   ],
   "source": [
    "clf.best_params_"
   ]
  },
  {
   "cell_type": "code",
   "execution_count": 16,
   "metadata": {},
   "outputs": [
    {
     "data": {
      "text/html": [
       "<style>#sk-container-id-2 {color: black;}#sk-container-id-2 pre{padding: 0;}#sk-container-id-2 div.sk-toggleable {background-color: white;}#sk-container-id-2 label.sk-toggleable__label {cursor: pointer;display: block;width: 100%;margin-bottom: 0;padding: 0.3em;box-sizing: border-box;text-align: center;}#sk-container-id-2 label.sk-toggleable__label-arrow:before {content: \"▸\";float: left;margin-right: 0.25em;color: #696969;}#sk-container-id-2 label.sk-toggleable__label-arrow:hover:before {color: black;}#sk-container-id-2 div.sk-estimator:hover label.sk-toggleable__label-arrow:before {color: black;}#sk-container-id-2 div.sk-toggleable__content {max-height: 0;max-width: 0;overflow: hidden;text-align: left;background-color: #f0f8ff;}#sk-container-id-2 div.sk-toggleable__content pre {margin: 0.2em;color: black;border-radius: 0.25em;background-color: #f0f8ff;}#sk-container-id-2 input.sk-toggleable__control:checked~div.sk-toggleable__content {max-height: 200px;max-width: 100%;overflow: auto;}#sk-container-id-2 input.sk-toggleable__control:checked~label.sk-toggleable__label-arrow:before {content: \"▾\";}#sk-container-id-2 div.sk-estimator input.sk-toggleable__control:checked~label.sk-toggleable__label {background-color: #d4ebff;}#sk-container-id-2 div.sk-label input.sk-toggleable__control:checked~label.sk-toggleable__label {background-color: #d4ebff;}#sk-container-id-2 input.sk-hidden--visually {border: 0;clip: rect(1px 1px 1px 1px);clip: rect(1px, 1px, 1px, 1px);height: 1px;margin: -1px;overflow: hidden;padding: 0;position: absolute;width: 1px;}#sk-container-id-2 div.sk-estimator {font-family: monospace;background-color: #f0f8ff;border: 1px dotted black;border-radius: 0.25em;box-sizing: border-box;margin-bottom: 0.5em;}#sk-container-id-2 div.sk-estimator:hover {background-color: #d4ebff;}#sk-container-id-2 div.sk-parallel-item::after {content: \"\";width: 100%;border-bottom: 1px solid gray;flex-grow: 1;}#sk-container-id-2 div.sk-label:hover label.sk-toggleable__label {background-color: #d4ebff;}#sk-container-id-2 div.sk-serial::before {content: \"\";position: absolute;border-left: 1px solid gray;box-sizing: border-box;top: 0;bottom: 0;left: 50%;z-index: 0;}#sk-container-id-2 div.sk-serial {display: flex;flex-direction: column;align-items: center;background-color: white;padding-right: 0.2em;padding-left: 0.2em;position: relative;}#sk-container-id-2 div.sk-item {position: relative;z-index: 1;}#sk-container-id-2 div.sk-parallel {display: flex;align-items: stretch;justify-content: center;background-color: white;position: relative;}#sk-container-id-2 div.sk-item::before, #sk-container-id-2 div.sk-parallel-item::before {content: \"\";position: absolute;border-left: 1px solid gray;box-sizing: border-box;top: 0;bottom: 0;left: 50%;z-index: -1;}#sk-container-id-2 div.sk-parallel-item {display: flex;flex-direction: column;z-index: 1;position: relative;background-color: white;}#sk-container-id-2 div.sk-parallel-item:first-child::after {align-self: flex-end;width: 50%;}#sk-container-id-2 div.sk-parallel-item:last-child::after {align-self: flex-start;width: 50%;}#sk-container-id-2 div.sk-parallel-item:only-child::after {width: 0;}#sk-container-id-2 div.sk-dashed-wrapped {border: 1px dashed gray;margin: 0 0.4em 0.5em 0.4em;box-sizing: border-box;padding-bottom: 0.4em;background-color: white;}#sk-container-id-2 div.sk-label label {font-family: monospace;font-weight: bold;display: inline-block;line-height: 1.2em;}#sk-container-id-2 div.sk-label-container {text-align: center;}#sk-container-id-2 div.sk-container {/* jupyter's `normalize.less` sets `[hidden] { display: none; }` but bootstrap.min.css set `[hidden] { display: none !important; }` so we also need the `!important` here to be able to override the default hidden behavior on the sphinx rendered scikit-learn.org. See: https://github.com/scikit-learn/scikit-learn/issues/21755 */display: inline-block !important;position: relative;}#sk-container-id-2 div.sk-text-repr-fallback {display: none;}</style><div id=\"sk-container-id-2\" class=\"sk-top-container\"><div class=\"sk-text-repr-fallback\"><pre>DecisionTreeClassifier(criterion=&#x27;entropy&#x27;, max_depth=5, max_features=&#x27;log2&#x27;,\n",
       "                       splitter=&#x27;random&#x27;)</pre><b>In a Jupyter environment, please rerun this cell to show the HTML representation or trust the notebook. <br />On GitHub, the HTML representation is unable to render, please try loading this page with nbviewer.org.</b></div><div class=\"sk-container\" hidden><div class=\"sk-item\"><div class=\"sk-estimator sk-toggleable\"><input class=\"sk-toggleable__control sk-hidden--visually\" id=\"sk-estimator-id-4\" type=\"checkbox\" checked><label for=\"sk-estimator-id-4\" class=\"sk-toggleable__label sk-toggleable__label-arrow\">DecisionTreeClassifier</label><div class=\"sk-toggleable__content\"><pre>DecisionTreeClassifier(criterion=&#x27;entropy&#x27;, max_depth=5, max_features=&#x27;log2&#x27;,\n",
       "                       splitter=&#x27;random&#x27;)</pre></div></div></div></div></div>"
      ],
      "text/plain": [
       "DecisionTreeClassifier(criterion='entropy', max_depth=5, max_features='log2',\n",
       "                       splitter='random')"
      ]
     },
     "execution_count": 16,
     "metadata": {},
     "output_type": "execute_result"
    }
   ],
   "source": [
    "classifier=DecisionTreeClassifier(criterion='entropy',max_depth=5,max_features='log2',splitter='random')\n",
    "classifier.fit(X_train,y_train)"
   ]
  },
  {
   "cell_type": "code",
   "execution_count": 17,
   "metadata": {},
   "outputs": [],
   "source": [
    "y_pred=classifier.predict(X_test)"
   ]
  },
  {
   "cell_type": "code",
   "execution_count": 18,
   "metadata": {},
   "outputs": [
    {
     "data": {
      "text/plain": [
       "array([[101,  22],\n",
       "       [ 30,  39]])"
      ]
     },
     "execution_count": 18,
     "metadata": {},
     "output_type": "execute_result"
    }
   ],
   "source": [
    "conf_matrix=confusion_matrix(y_test,y_pred)\n",
    "conf_matrix"
   ]
  },
  {
   "cell_type": "code",
   "execution_count": 19,
   "metadata": {},
   "outputs": [],
   "source": [
    "true_positive=conf_matrix[0][0]\n",
    "false_positive=conf_matrix[0][1]\n",
    "\n",
    "false_negative=conf_matrix[1][0]\n",
    "true_negative=conf_matrix[1][1]"
   ]
  },
  {
   "cell_type": "code",
   "execution_count": 20,
   "metadata": {},
   "outputs": [],
   "source": [
    "precision= false_positive/(false_positive+false_negative)\n",
    "recall=false_negative/(false_positive+false_negative)"
   ]
  },
  {
   "cell_type": "code",
   "execution_count": 21,
   "metadata": {},
   "outputs": [
    {
     "data": {
      "text/plain": [
       "0.4230769230769231"
      ]
     },
     "execution_count": 21,
     "metadata": {},
     "output_type": "execute_result"
    }
   ],
   "source": [
    "precision"
   ]
  },
  {
   "cell_type": "code",
   "execution_count": 22,
   "metadata": {},
   "outputs": [
    {
     "data": {
      "text/plain": [
       "0.5769230769230769"
      ]
     },
     "execution_count": 22,
     "metadata": {},
     "output_type": "execute_result"
    }
   ],
   "source": [
    "recall"
   ]
  },
  {
   "cell_type": "code",
   "execution_count": 23,
   "metadata": {},
   "outputs": [],
   "source": [
    "import pickle\n",
    "file=open('/config/workspace/Model/model_prediction.pkl','wb')\n",
    "pickle.dump(classifier,file)\n",
    "file.close()"
   ]
  },
  {
   "cell_type": "code",
   "execution_count": 24,
   "metadata": {},
   "outputs": [],
   "source": [
    "parameter={'C':[0.1,1,10,100,1000],\n",
    "'gamma':[1,0.1,0.01,0.001,0.0001],\n",
    "'kernel':['linear','rbf','polynomial']\n",
    "\n",
    "}"
   ]
  },
  {
   "cell_type": "code",
   "execution_count": 25,
   "metadata": {},
   "outputs": [
    {
     "data": {
      "text/html": [
       "<style>#sk-container-id-3 {color: black;}#sk-container-id-3 pre{padding: 0;}#sk-container-id-3 div.sk-toggleable {background-color: white;}#sk-container-id-3 label.sk-toggleable__label {cursor: pointer;display: block;width: 100%;margin-bottom: 0;padding: 0.3em;box-sizing: border-box;text-align: center;}#sk-container-id-3 label.sk-toggleable__label-arrow:before {content: \"▸\";float: left;margin-right: 0.25em;color: #696969;}#sk-container-id-3 label.sk-toggleable__label-arrow:hover:before {color: black;}#sk-container-id-3 div.sk-estimator:hover label.sk-toggleable__label-arrow:before {color: black;}#sk-container-id-3 div.sk-toggleable__content {max-height: 0;max-width: 0;overflow: hidden;text-align: left;background-color: #f0f8ff;}#sk-container-id-3 div.sk-toggleable__content pre {margin: 0.2em;color: black;border-radius: 0.25em;background-color: #f0f8ff;}#sk-container-id-3 input.sk-toggleable__control:checked~div.sk-toggleable__content {max-height: 200px;max-width: 100%;overflow: auto;}#sk-container-id-3 input.sk-toggleable__control:checked~label.sk-toggleable__label-arrow:before {content: \"▾\";}#sk-container-id-3 div.sk-estimator input.sk-toggleable__control:checked~label.sk-toggleable__label {background-color: #d4ebff;}#sk-container-id-3 div.sk-label input.sk-toggleable__control:checked~label.sk-toggleable__label {background-color: #d4ebff;}#sk-container-id-3 input.sk-hidden--visually {border: 0;clip: rect(1px 1px 1px 1px);clip: rect(1px, 1px, 1px, 1px);height: 1px;margin: -1px;overflow: hidden;padding: 0;position: absolute;width: 1px;}#sk-container-id-3 div.sk-estimator {font-family: monospace;background-color: #f0f8ff;border: 1px dotted black;border-radius: 0.25em;box-sizing: border-box;margin-bottom: 0.5em;}#sk-container-id-3 div.sk-estimator:hover {background-color: #d4ebff;}#sk-container-id-3 div.sk-parallel-item::after {content: \"\";width: 100%;border-bottom: 1px solid gray;flex-grow: 1;}#sk-container-id-3 div.sk-label:hover label.sk-toggleable__label {background-color: #d4ebff;}#sk-container-id-3 div.sk-serial::before {content: \"\";position: absolute;border-left: 1px solid gray;box-sizing: border-box;top: 0;bottom: 0;left: 50%;z-index: 0;}#sk-container-id-3 div.sk-serial {display: flex;flex-direction: column;align-items: center;background-color: white;padding-right: 0.2em;padding-left: 0.2em;position: relative;}#sk-container-id-3 div.sk-item {position: relative;z-index: 1;}#sk-container-id-3 div.sk-parallel {display: flex;align-items: stretch;justify-content: center;background-color: white;position: relative;}#sk-container-id-3 div.sk-item::before, #sk-container-id-3 div.sk-parallel-item::before {content: \"\";position: absolute;border-left: 1px solid gray;box-sizing: border-box;top: 0;bottom: 0;left: 50%;z-index: -1;}#sk-container-id-3 div.sk-parallel-item {display: flex;flex-direction: column;z-index: 1;position: relative;background-color: white;}#sk-container-id-3 div.sk-parallel-item:first-child::after {align-self: flex-end;width: 50%;}#sk-container-id-3 div.sk-parallel-item:last-child::after {align-self: flex-start;width: 50%;}#sk-container-id-3 div.sk-parallel-item:only-child::after {width: 0;}#sk-container-id-3 div.sk-dashed-wrapped {border: 1px dashed gray;margin: 0 0.4em 0.5em 0.4em;box-sizing: border-box;padding-bottom: 0.4em;background-color: white;}#sk-container-id-3 div.sk-label label {font-family: monospace;font-weight: bold;display: inline-block;line-height: 1.2em;}#sk-container-id-3 div.sk-label-container {text-align: center;}#sk-container-id-3 div.sk-container {/* jupyter's `normalize.less` sets `[hidden] { display: none; }` but bootstrap.min.css set `[hidden] { display: none !important; }` so we also need the `!important` here to be able to override the default hidden behavior on the sphinx rendered scikit-learn.org. See: https://github.com/scikit-learn/scikit-learn/issues/21755 */display: inline-block !important;position: relative;}#sk-container-id-3 div.sk-text-repr-fallback {display: none;}</style><div id=\"sk-container-id-3\" class=\"sk-top-container\"><div class=\"sk-text-repr-fallback\"><pre>SVC(C=0.1, gamma=1, kernel=&#x27;linear&#x27;)</pre><b>In a Jupyter environment, please rerun this cell to show the HTML representation or trust the notebook. <br />On GitHub, the HTML representation is unable to render, please try loading this page with nbviewer.org.</b></div><div class=\"sk-container\" hidden><div class=\"sk-item\"><div class=\"sk-estimator sk-toggleable\"><input class=\"sk-toggleable__control sk-hidden--visually\" id=\"sk-estimator-id-5\" type=\"checkbox\" checked><label for=\"sk-estimator-id-5\" class=\"sk-toggleable__label sk-toggleable__label-arrow\">SVC</label><div class=\"sk-toggleable__content\"><pre>SVC(C=0.1, gamma=1, kernel=&#x27;linear&#x27;)</pre></div></div></div></div></div>"
      ],
      "text/plain": [
       "SVC(C=0.1, gamma=1, kernel='linear')"
      ]
     },
     "execution_count": 25,
     "metadata": {},
     "output_type": "execute_result"
    }
   ],
   "source": [
    "svc=SVC(C=0.1,gamma=1,kernel='linear')\n",
    "svc.fit(X_train,y_train)"
   ]
  },
  {
   "cell_type": "code",
   "execution_count": 26,
   "metadata": {},
   "outputs": [],
   "source": [
    "y_pred=svc.predict(X_test)\n",
    "maatrix=confusion_matrix(y_test,y_pred)"
   ]
  },
  {
   "cell_type": "code",
   "execution_count": 27,
   "metadata": {},
   "outputs": [
    {
     "data": {
      "text/plain": [
       "array([[98, 25],\n",
       "       [28, 41]])"
      ]
     },
     "execution_count": 27,
     "metadata": {},
     "output_type": "execute_result"
    }
   ],
   "source": [
    "maatrix"
   ]
  },
  {
   "cell_type": "code",
   "execution_count": 28,
   "metadata": {},
   "outputs": [],
   "source": [
    "true_positive=conf_matrix[0][0]\n",
    "false_positive=conf_matrix[0][1]\n",
    "\n",
    "false_negative=conf_matrix[1][0]\n",
    "true_negative=conf_matrix[1][1]"
   ]
  },
  {
   "cell_type": "code",
   "execution_count": 29,
   "metadata": {},
   "outputs": [],
   "source": [
    "recall=false_negative/(false_negative+false_positive)"
   ]
  },
  {
   "cell_type": "code",
   "execution_count": 30,
   "metadata": {},
   "outputs": [
    {
     "data": {
      "text/plain": [
       "0.5769230769230769"
      ]
     },
     "execution_count": 30,
     "metadata": {},
     "output_type": "execute_result"
    }
   ],
   "source": [
    "recall"
   ]
  },
  {
   "cell_type": "code",
   "execution_count": 31,
   "metadata": {},
   "outputs": [
    {
     "data": {
      "text/html": [
       "<style>#sk-container-id-4 {color: black;}#sk-container-id-4 pre{padding: 0;}#sk-container-id-4 div.sk-toggleable {background-color: white;}#sk-container-id-4 label.sk-toggleable__label {cursor: pointer;display: block;width: 100%;margin-bottom: 0;padding: 0.3em;box-sizing: border-box;text-align: center;}#sk-container-id-4 label.sk-toggleable__label-arrow:before {content: \"▸\";float: left;margin-right: 0.25em;color: #696969;}#sk-container-id-4 label.sk-toggleable__label-arrow:hover:before {color: black;}#sk-container-id-4 div.sk-estimator:hover label.sk-toggleable__label-arrow:before {color: black;}#sk-container-id-4 div.sk-toggleable__content {max-height: 0;max-width: 0;overflow: hidden;text-align: left;background-color: #f0f8ff;}#sk-container-id-4 div.sk-toggleable__content pre {margin: 0.2em;color: black;border-radius: 0.25em;background-color: #f0f8ff;}#sk-container-id-4 input.sk-toggleable__control:checked~div.sk-toggleable__content {max-height: 200px;max-width: 100%;overflow: auto;}#sk-container-id-4 input.sk-toggleable__control:checked~label.sk-toggleable__label-arrow:before {content: \"▾\";}#sk-container-id-4 div.sk-estimator input.sk-toggleable__control:checked~label.sk-toggleable__label {background-color: #d4ebff;}#sk-container-id-4 div.sk-label input.sk-toggleable__control:checked~label.sk-toggleable__label {background-color: #d4ebff;}#sk-container-id-4 input.sk-hidden--visually {border: 0;clip: rect(1px 1px 1px 1px);clip: rect(1px, 1px, 1px, 1px);height: 1px;margin: -1px;overflow: hidden;padding: 0;position: absolute;width: 1px;}#sk-container-id-4 div.sk-estimator {font-family: monospace;background-color: #f0f8ff;border: 1px dotted black;border-radius: 0.25em;box-sizing: border-box;margin-bottom: 0.5em;}#sk-container-id-4 div.sk-estimator:hover {background-color: #d4ebff;}#sk-container-id-4 div.sk-parallel-item::after {content: \"\";width: 100%;border-bottom: 1px solid gray;flex-grow: 1;}#sk-container-id-4 div.sk-label:hover label.sk-toggleable__label {background-color: #d4ebff;}#sk-container-id-4 div.sk-serial::before {content: \"\";position: absolute;border-left: 1px solid gray;box-sizing: border-box;top: 0;bottom: 0;left: 50%;z-index: 0;}#sk-container-id-4 div.sk-serial {display: flex;flex-direction: column;align-items: center;background-color: white;padding-right: 0.2em;padding-left: 0.2em;position: relative;}#sk-container-id-4 div.sk-item {position: relative;z-index: 1;}#sk-container-id-4 div.sk-parallel {display: flex;align-items: stretch;justify-content: center;background-color: white;position: relative;}#sk-container-id-4 div.sk-item::before, #sk-container-id-4 div.sk-parallel-item::before {content: \"\";position: absolute;border-left: 1px solid gray;box-sizing: border-box;top: 0;bottom: 0;left: 50%;z-index: -1;}#sk-container-id-4 div.sk-parallel-item {display: flex;flex-direction: column;z-index: 1;position: relative;background-color: white;}#sk-container-id-4 div.sk-parallel-item:first-child::after {align-self: flex-end;width: 50%;}#sk-container-id-4 div.sk-parallel-item:last-child::after {align-self: flex-start;width: 50%;}#sk-container-id-4 div.sk-parallel-item:only-child::after {width: 0;}#sk-container-id-4 div.sk-dashed-wrapped {border: 1px dashed gray;margin: 0 0.4em 0.5em 0.4em;box-sizing: border-box;padding-bottom: 0.4em;background-color: white;}#sk-container-id-4 div.sk-label label {font-family: monospace;font-weight: bold;display: inline-block;line-height: 1.2em;}#sk-container-id-4 div.sk-label-container {text-align: center;}#sk-container-id-4 div.sk-container {/* jupyter's `normalize.less` sets `[hidden] { display: none; }` but bootstrap.min.css set `[hidden] { display: none !important; }` so we also need the `!important` here to be able to override the default hidden behavior on the sphinx rendered scikit-learn.org. See: https://github.com/scikit-learn/scikit-learn/issues/21755 */display: inline-block !important;position: relative;}#sk-container-id-4 div.sk-text-repr-fallback {display: none;}</style><div id=\"sk-container-id-4\" class=\"sk-top-container\"><div class=\"sk-text-repr-fallback\"><pre>BernoulliNB()</pre><b>In a Jupyter environment, please rerun this cell to show the HTML representation or trust the notebook. <br />On GitHub, the HTML representation is unable to render, please try loading this page with nbviewer.org.</b></div><div class=\"sk-container\" hidden><div class=\"sk-item\"><div class=\"sk-estimator sk-toggleable\"><input class=\"sk-toggleable__control sk-hidden--visually\" id=\"sk-estimator-id-6\" type=\"checkbox\" checked><label for=\"sk-estimator-id-6\" class=\"sk-toggleable__label sk-toggleable__label-arrow\">BernoulliNB</label><div class=\"sk-toggleable__content\"><pre>BernoulliNB()</pre></div></div></div></div></div>"
      ],
      "text/plain": [
       "BernoulliNB()"
      ]
     },
     "execution_count": 31,
     "metadata": {},
     "output_type": "execute_result"
    }
   ],
   "source": [
    "nv=BernoulliNB()\n",
    "nv.fit(X_train,y_train)\n"
   ]
  },
  {
   "cell_type": "code",
   "execution_count": 32,
   "metadata": {},
   "outputs": [],
   "source": [
    "y_pred_nv=nv.predict(X_test)"
   ]
  },
  {
   "cell_type": "code",
   "execution_count": 33,
   "metadata": {},
   "outputs": [
    {
     "data": {
      "text/plain": [
       "0.7239583333333334"
      ]
     },
     "execution_count": 33,
     "metadata": {},
     "output_type": "execute_result"
    }
   ],
   "source": [
    "accuracy_score(y_test,y_pred)"
   ]
  },
  {
   "cell_type": "code",
   "execution_count": 34,
   "metadata": {},
   "outputs": [],
   "source": [
    "nv_matrix=confusion_matrix(y_test,y_pred_nv)"
   ]
  },
  {
   "cell_type": "code",
   "execution_count": 35,
   "metadata": {},
   "outputs": [
    {
     "data": {
      "text/plain": [
       "array([[123,   0],\n",
       "       [ 69,   0]])"
      ]
     },
     "execution_count": 35,
     "metadata": {},
     "output_type": "execute_result"
    }
   ],
   "source": [
    "nv_matrix"
   ]
  },
  {
   "cell_type": "code",
   "execution_count": null,
   "metadata": {},
   "outputs": [],
   "source": []
  }
 ],
 "metadata": {
  "kernelspec": {
   "display_name": "Python 3.8.10 64-bit",
   "language": "python",
   "name": "python3"
  },
  "language_info": {
   "codemirror_mode": {
    "name": "ipython",
    "version": 3
   },
   "file_extension": ".py",
   "mimetype": "text/x-python",
   "name": "python",
   "nbconvert_exporter": "python",
   "pygments_lexer": "ipython3",
   "version": "3.8.10"
  },
  "orig_nbformat": 4,
  "vscode": {
   "interpreter": {
    "hash": "e7370f93d1d0cde622a1f8e1c04877d8463912d04d973331ad4851f04de6915a"
   }
  }
 },
 "nbformat": 4,
 "nbformat_minor": 2
}
